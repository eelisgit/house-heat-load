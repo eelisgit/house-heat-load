{
 "cells": [
  {
   "cell_type": "code",
   "execution_count": 6,
   "metadata": {},
   "outputs": [],
   "source": [
    "import pandas as pd\n",
    "import matplotlib.pyplot as plt\n",
    "import seaborn as sns\n",
    "import numpy as np\n",
    "from sklearn.linear_model import LinearRegression\n",
    "from sklearn.model_selection import train_test_split\n",
    "from sklearn.model_selection import cross_val_score\n",
    "from sklearn.pipeline import Pipeline\n",
    "from sklearn.preprocessing import StandardScaler\n",
    "from sklearn.linear_model import ElasticNet\n",
    "from sklearn.model_selection import GridSearchCV\n",
    "from sklearn.metrics import mean_squared_error\n",
    "\n",
    "from sklearn.preprocessing import PolynomialFeatures\n",
    "%matplotlib inline"
   ]
  },
  {
   "cell_type": "markdown",
   "metadata": {},
   "source": [
    "# Data loading and processing"
   ]
  },
  {
   "cell_type": "code",
   "execution_count": 7,
   "metadata": {},
   "outputs": [
    {
     "name": "stdout",
     "output_type": "stream",
     "text": [
      "Reading data...\n",
      "Data read!\n"
     ]
    }
   ],
   "source": [
    "print(\"Reading data...\")\n",
    "data = pd.read_csv(r'ENB2012_data.csv')\n",
    "print(\"Data read!\")"
   ]
  },
  {
   "cell_type": "code",
   "execution_count": 8,
   "metadata": {
    "collapsed": true
   },
   "outputs": [],
   "source": [
    "data.columns = ['Relative_Compactness', 'Surface_Area','Wall_Area', \n",
    "                'Roof_Area','Overall_Height', 'Orientation','Glazing_Area', 'Glazing_Area_Distribution'\n",
    "                ,'HL', 'CL']"
   ]
  },
  {
   "cell_type": "code",
   "execution_count": 9,
   "metadata": {},
   "outputs": [
    {
     "name": "stdout",
     "output_type": "stream",
     "text": [
      "Printing basic info...\n",
      "(768, 10)\n",
      "\n",
      "<class 'pandas.core.frame.DataFrame'>\n",
      "RangeIndex: 768 entries, 0 to 767\n",
      "Data columns (total 10 columns):\n",
      "Relative_Compactness         768 non-null float64\n",
      "Surface_Area                 768 non-null float64\n",
      "Wall_Area                    768 non-null float64\n",
      "Roof_Area                    768 non-null float64\n",
      "Overall_Height               768 non-null float64\n",
      "Orientation                  768 non-null int64\n",
      "Glazing_Area                 768 non-null float64\n",
      "Glazing_Area_Distribution    768 non-null int64\n",
      "HL                           768 non-null float64\n",
      "CL                           768 non-null float64\n",
      "dtypes: float64(8), int64(2)\n",
      "memory usage: 60.1 KB\n",
      "None\n"
     ]
    }
   ],
   "source": [
    "#Check that everything is in order in the csv, ie non nulls etc\n",
    "print(\"Printing basic info...\")\n",
    "print(data.shape)\n",
    "print()\n",
    "print(data.info())"
   ]
  },
  {
   "cell_type": "code",
   "execution_count": 10,
   "metadata": {},
   "outputs": [
    {
     "name": "stdout",
     "output_type": "stream",
     "text": [
      "\n"
     ]
    }
   ],
   "source": [
    "print(\"\")"
   ]
  },
  {
   "cell_type": "markdown",
   "metadata": {},
   "source": [
    "# Preprocessing Orientation"
   ]
  },
  {
   "cell_type": "code",
   "execution_count": 11,
   "metadata": {},
   "outputs": [
    {
     "name": "stdout",
     "output_type": "stream",
     "text": [
      "Preprocessing data - applying one hot vectors..\n"
     ]
    }
   ],
   "source": [
    "#I first created a dictionary which mapped the integers to strings and applied the mapping to the data set\n",
    "print(\"Preprocessing data - applying one hot vectors..\")\n",
    "orient_dict = {2:'2_orient',3:'3_orient',4:'4_orient',5:'5_orient'}\n",
    "data_new = data.replace({\"Orientation\": orient_dict})\n",
    "\n",
    "#I then encoded the existing dataframe by dropping the original column and replacing it with the one-hot columns\n",
    "data_new =data_new.drop('Orientation', 1).join(data_new.Orientation.str.get_dummies())"
   ]
  },
  {
   "cell_type": "markdown",
   "metadata": {},
   "source": [
    "# Preprocessing Glazing Area Distribution"
   ]
  },
  {
   "cell_type": "code",
   "execution_count": 12,
   "metadata": {},
   "outputs": [
    {
     "name": "stdout",
     "output_type": "stream",
     "text": [
      "   Relative_Compactness  Surface_Area  Wall_Area  Roof_Area  Overall_Height  \\\n",
      "0                  0.98         514.5      294.0     110.25             7.0   \n",
      "1                  0.98         514.5      294.0     110.25             7.0   \n",
      "2                  0.98         514.5      294.0     110.25             7.0   \n",
      "3                  0.98         514.5      294.0     110.25             7.0   \n",
      "4                  0.90         563.5      318.5     122.50             7.0   \n",
      "\n",
      "   Glazing_Area     HL     CL  2_orient  3_orient  4_orient  5_orient  0_gaz  \\\n",
      "0           0.0  15.55  21.33         1         0         0         0      1   \n",
      "1           0.0  15.55  21.33         0         1         0         0      1   \n",
      "2           0.0  15.55  21.33         0         0         1         0      1   \n",
      "3           0.0  15.55  21.33         0         0         0         1      1   \n",
      "4           0.0  20.84  28.28         1         0         0         0      1   \n",
      "\n",
      "   1_gaz  2_gaz  3_gaz  4_gaz  5_gaz  \n",
      "0      0      0      0      0      0  \n",
      "1      0      0      0      0      0  \n",
      "2      0      0      0      0      0  \n",
      "3      0      0      0      0      0  \n",
      "4      0      0      0      0      0  \n",
      "Pre-processing done!\n",
      "\n"
     ]
    }
   ],
   "source": [
    "gaz_dict = {0:'0_gaz',1:'1_gaz',2:'2_gaz',3:'3_gaz',4:'4_gaz',5:'5_gaz'}\n",
    "data_new = data_new.replace({\"Glazing_Area_Distribution\": gaz_dict})\n",
    "data_new =data_new.drop('Glazing_Area_Distribution', 1).join(data_new.Glazing_Area_Distribution.str.get_dummies())\n",
    "print(data_new.head())\n",
    "print(\"Pre-processing done!\")\n",
    "print(\"\")"
   ]
  },
  {
   "cell_type": "markdown",
   "metadata": {},
   "source": [
    "# Splitting into training and testing"
   ]
  },
  {
   "cell_type": "code",
   "execution_count": 13,
   "metadata": {},
   "outputs": [
    {
     "name": "stdout",
     "output_type": "stream",
     "text": [
      "Splitting data into training and testing...\n"
     ]
    }
   ],
   "source": [
    "print(\"Splitting data into training and testing...\")\n",
    "data_training,data_test = train_test_split(data_new,test_size = 0.2,random_state = 42)"
   ]
  },
  {
   "cell_type": "code",
   "execution_count": 14,
   "metadata": {},
   "outputs": [
    {
     "name": "stdout",
     "output_type": "stream",
     "text": [
      "Training data has length: 614\n",
      "Testing data has length: 154\n",
      "\n"
     ]
    }
   ],
   "source": [
    "print(\"Training data has length: \" +str(len(data_training)))\n",
    "print(\"Testing data has length: \" +str(len(data_test)))\n",
    "print(\"\")"
   ]
  },
  {
   "cell_type": "markdown",
   "metadata": {},
   "source": [
    "# Describing data"
   ]
  },
  {
   "cell_type": "code",
   "execution_count": 15,
   "metadata": {},
   "outputs": [
    {
     "name": "stdout",
     "output_type": "stream",
     "text": [
      "Describing data...\n",
      "       Relative_Compactness  Surface_Area   Wall_Area   Roof_Area  \\\n",
      "count            614.000000    614.000000  614.000000  614.000000   \n",
      "mean               0.761678    673.829805  318.819218  177.505293   \n",
      "std                0.105424     88.161209   43.335953   44.960238   \n",
      "min                0.620000    514.500000  245.000000  110.250000   \n",
      "25%                0.660000    612.500000  294.000000  147.000000   \n",
      "50%                0.740000    686.000000  318.500000  220.500000   \n",
      "75%                0.820000    759.500000  343.000000  220.500000   \n",
      "max                0.980000    808.500000  416.500000  220.500000   \n",
      "\n",
      "       Overall_Height  Glazing_Area          HL          CL    2_orient  \\\n",
      "count      614.000000    614.000000  614.000000  614.000000  614.000000   \n",
      "mean         5.221498      0.235423   22.155033   24.410765    0.239414   \n",
      "std          1.751195      0.134152   10.054280    9.476566    0.427074   \n",
      "min          3.500000      0.000000    6.010000   10.900000    0.000000   \n",
      "25%          3.500000      0.100000   12.977500   15.640000    0.000000   \n",
      "50%          3.500000      0.250000   18.250000   21.500000    0.000000   \n",
      "75%          7.000000      0.400000   31.545000   32.920000    0.000000   \n",
      "max          7.000000      0.400000   43.100000   48.030000    1.000000   \n",
      "\n",
      "         3_orient    4_orient    5_orient       0_gaz       1_gaz       2_gaz  \\\n",
      "count  614.000000  614.000000  614.000000  614.000000  614.000000  614.000000   \n",
      "mean     0.258958    0.252443    0.249186    0.065147    0.185668    0.187296   \n",
      "std      0.438419    0.434768    0.432894    0.246986    0.389155    0.390467   \n",
      "min      0.000000    0.000000    0.000000    0.000000    0.000000    0.000000   \n",
      "25%      0.000000    0.000000    0.000000    0.000000    0.000000    0.000000   \n",
      "50%      0.000000    0.000000    0.000000    0.000000    0.000000    0.000000   \n",
      "75%      1.000000    1.000000    0.000000    0.000000    0.000000    0.000000   \n",
      "max      1.000000    1.000000    1.000000    1.000000    1.000000    1.000000   \n",
      "\n",
      "            3_gaz       4_gaz       5_gaz  \n",
      "count  614.000000  614.000000  614.000000  \n",
      "mean     0.195440    0.179153    0.187296  \n",
      "std      0.396862    0.383793    0.390467  \n",
      "min      0.000000    0.000000    0.000000  \n",
      "25%      0.000000    0.000000    0.000000  \n",
      "50%      0.000000    0.000000    0.000000  \n",
      "75%      0.000000    0.000000    0.000000  \n",
      "max      1.000000    1.000000    1.000000  \n",
      "\n"
     ]
    }
   ],
   "source": [
    "#Look at data and some descriptive statistics\n",
    "print(\"Describing data...\")\n",
    "print(data_training.describe())\n",
    "print(\"\")"
   ]
  },
  {
   "cell_type": "code",
   "execution_count": 16,
   "metadata": {},
   "outputs": [
    {
     "name": "stdout",
     "output_type": "stream",
     "text": [
      "Checking number of distincct values in each column....\n",
      "Relative_Compactness 12\n",
      "Surface_Area 12\n",
      "Wall_Area 7\n",
      "Roof_Area 4\n",
      "Overall_Height 2\n",
      "Glazing_Area 4\n",
      "HL 490\n",
      "CL 526\n",
      "2_orient 2\n",
      "3_orient 2\n",
      "4_orient 2\n",
      "5_orient 2\n",
      "0_gaz 2\n",
      "1_gaz 2\n",
      "2_gaz 2\n",
      "3_gaz 2\n",
      "4_gaz 2\n",
      "5_gaz 2\n",
      "\n"
     ]
    }
   ],
   "source": [
    "print(\"Checking number of distincct values in each column....\")\n",
    "for column in data_training.columns:\n",
    "    distinct = len(data_training[column].unique())\n",
    "    print('%s %d' % (column, distinct))\n",
    "print(\"\")"
   ]
  },
  {
   "cell_type": "code",
   "execution_count": 17,
   "metadata": {},
   "outputs": [
    {
     "name": "stdout",
     "output_type": "stream",
     "text": [
      "Relative_Compactness\n",
      "0.62    55\n",
      "0.64    51\n",
      "0.66    52\n",
      "0.69    55\n",
      "0.71    50\n",
      "0.74    49\n",
      "0.76    50\n",
      "0.79    50\n",
      "0.82    53\n",
      "0.86    52\n",
      "0.90    48\n",
      "0.98    49\n",
      "dtype: int64\n",
      "\n"
     ]
    }
   ],
   "source": [
    "print(data_training.groupby('Relative_Compactness').size())\n",
    "print(\"\")"
   ]
  },
  {
   "cell_type": "markdown",
   "metadata": {},
   "source": [
    "# Plotting histograms"
   ]
  },
  {
   "cell_type": "code",
   "execution_count": 18,
   "metadata": {},
   "outputs": [
    {
     "name": "stdout",
     "output_type": "stream",
     "text": [
      "Plotting histograms\n",
      "\n"
     ]
    },
    {
     "data": {
      "image/png": "[encoded data removed]",
      "text/plain": [
       "<matplotlib.figure.Figure at 0x233070b8748>"
      ]
     },
     "metadata": {},
     "output_type": "display_data"
    }
   ],
   "source": [
    "print(\"Plotting histograms\")\n",
    "data_training.hist(bins = 50, figsize = (20,15))\n",
    "print(\"\")"
   ]
  },
  {
   "cell_type": "markdown",
   "metadata": {},
   "source": [
    "# Plotting scatter"
   ]
  },
  {
   "cell_type": "code",
   "execution_count": 19,
   "metadata": {},
   "outputs": [
    {
     "name": "stdout",
     "output_type": "stream",
     "text": [
      "Plotting scatter plots\n",
      "Index(['Relative_Compactness', 'Surface_Area', 'Wall_Area', 'Roof_Area',\n",
      "       'Overall_Height', 'Glazing_Area', 'HL', 'CL', '2_orient', '3_orient',\n",
      "       '4_orient', '5_orient', '0_gaz', '1_gaz', '2_gaz', '3_gaz', '4_gaz',\n",
      "       '5_gaz'],\n",
      "      dtype='object')\n",
      "Relative_Compactness\n",
      "Surface_Area\n",
      "Wall_Area\n",
      "Roof_Area\n",
      "Overall_Height\n",
      "Glazing_Area\n"
     ]
    },
    {
     "data": {
      "image/png": "[encoded data removed]",
      "text/plain": [
       "<matplotlib.figure.Figure at 0x2330b41d6a0>"
      ]
     },
     "metadata": {},
     "output_type": "display_data"
    },
    {
     "name": "stdout",
     "output_type": "stream",
     "text": [
      "\n"
     ]
    }
   ],
   "source": [
    "print(\"Plotting scatter plots\")\n",
    "fig, axes = plt.subplots(nrows=3, ncols=2, sharex=False,sharey=False)\n",
    "fig.tight_layout()\n",
    "fig.set_figheight(15)\n",
    "fig.set_figwidth(15)\n",
    "\n",
    "titles = data_training.columns\n",
    "print(titles)\n",
    "# axes.flat returns the set of axes as a flat (1D) array instead\n",
    "# of the two-dimensional version we used earlier\n",
    "for ax, title in zip(axes.flat, titles):\n",
    "    print(title)\n",
    "    ax.scatter(data_training[title], data_training['HL'],s= 25, alpha = 0.1, c = 'R')\n",
    "    ax.set_title(title)\n",
    "    ax.grid(True)\n",
    "\n",
    "plt.show()\n",
    "print(\"\")"
   ]
  },
  {
   "cell_type": "code",
   "execution_count": 20,
   "metadata": {
    "scrolled": true
   },
   "outputs": [
    {
     "data": {
      "image/png": "[encoded data removed]",
      "text/plain": [
       "<matplotlib.figure.Figure at 0x2330aaff7f0>"
      ]
     },
     "metadata": {},
     "output_type": "display_data"
    }
   ],
   "source": [
    "fig, axes = plt.subplots(nrows=3, ncols=2, sharex=False,sharey=False)\n",
    "fig.tight_layout()\n",
    "fig.set_figheight(15)\n",
    "fig.set_figwidth(15)\n",
    "\n",
    "titles = data_training.columns\n",
    "\n",
    "# axes.flat returns the set of axes as a flat (1D) array instead\n",
    "# of the two-dimensional version we used earlier\n",
    "for ax, title in zip(axes.flat, titles):\n",
    "    ax.scatter(data_training[title], data_training['CL'],s= 25, alpha = 0.1, c = 'B')\n",
    "    ax.set_title(title)\n",
    "    ax.grid(True)\n",
    "\n",
    "plt.show()"
   ]
  },
  {
   "cell_type": "markdown",
   "metadata": {},
   "source": [
    "# Plotting correlation matrix"
   ]
  },
  {
   "cell_type": "code",
   "execution_count": 21,
   "metadata": {},
   "outputs": [
    {
     "name": "stdout",
     "output_type": "stream",
     "text": [
      "Plotting correlation matrix\n"
     ]
    },
    {
     "data": {
      "text/plain": [
       "<matplotlib.axes._subplots.AxesSubplot at 0x2330a491dd8>"
      ]
     },
     "execution_count": 21,
     "metadata": {},
     "output_type": "execute_result"
    },
    {
     "data": {
      "image/png": "[encoded data removed]",
      "text/plain": [
       "<matplotlib.figure.Figure at 0x2330a908e80>"
      ]
     },
     "metadata": {},
     "output_type": "display_data"
    }
   ],
   "source": [
    "print(\"Plotting correlation matrix\")\n",
    "#This plot seems consistent with the papers\n",
    "corr = data_training.drop(['HL', 'CL'], axis = 1).corr()\n",
    "sns.heatmap(corr, \n",
    "            xticklabels=corr.columns.values,\n",
    "            yticklabels=corr.columns.values)"
   ]
  },
  {
   "cell_type": "code",
   "execution_count": 22,
   "metadata": {},
   "outputs": [
    {
     "name": "stdout",
     "output_type": "stream",
     "text": [
      "Plotting correlations\n",
      "HL                      1.000000\n",
      "CL                      0.976316\n",
      "Overall_Height          0.889154\n",
      "Relative_Compactness    0.629314\n",
      "Wall_Area               0.439092\n",
      "Glazing_Area            0.276184\n",
      "2_gaz                   0.045239\n",
      "3_gaz                   0.036867\n",
      "1_gaz                   0.028050\n",
      "5_gaz                   0.022630\n",
      "3_orient                0.004852\n",
      "4_orient                0.003139\n",
      "5_orient               -0.002226\n",
      "2_orient               -0.005919\n",
      "4_gaz                  -0.006415\n",
      "0_gaz                  -0.200764\n",
      "Surface_Area           -0.664684\n",
      "Roof_Area              -0.863294\n",
      "Name: HL, dtype: float64\n",
      "\n"
     ]
    }
   ],
   "source": [
    "#These results seem consistent with the paper where X8 and X6 fail to have significant correlations\n",
    "print(\"Plotting correlations\")\n",
    "corr_matrix = data_training.corr(method='pearson')\n",
    "print(corr_matrix['HL'].sort_values(ascending = False))\n",
    "print(\"\")"
   ]
  },
  {
   "cell_type": "code",
   "execution_count": 23,
   "metadata": {},
   "outputs": [
    {
     "name": "stdout",
     "output_type": "stream",
     "text": [
      "HL                      1.000000\n",
      "CL                      0.972061\n",
      "Overall_Height          0.861190\n",
      "Relative_Compactness    0.627326\n",
      "Wall_Area               0.448936\n",
      "Glazing_Area            0.329600\n",
      "2_gaz                   0.045537\n",
      "1_gaz                   0.045195\n",
      "3_gaz                   0.024493\n",
      "3_orient                0.009838\n",
      "5_gaz                   0.009067\n",
      "5_orient                0.001179\n",
      "4_gaz                   0.000923\n",
      "2_orient               -0.005276\n",
      "4_orient               -0.005912\n",
      "0_gaz                  -0.198326\n",
      "Surface_Area           -0.627326\n",
      "Roof_Area              -0.809685\n",
      "Name: HL, dtype: float64\n",
      "\n"
     ]
    }
   ],
   "source": [
    "#These results seem consistent with the paper where X8 and X6 fail to have significant correlations\n",
    "corr_matrix = data_training.corr(method='spearman')\n",
    "print(corr_matrix['HL'].sort_values(ascending = False))\n",
    "print(\"\")"
   ]
  },
  {
   "cell_type": "code",
   "execution_count": 24,
   "metadata": {},
   "outputs": [
    {
     "data": {
      "text/plain": [
       "CL                      1.000000\n",
       "HL                      0.976316\n",
       "Overall_Height          0.894927\n",
       "Relative_Compactness    0.642148\n",
       "Wall_Area               0.410905\n",
       "Glazing_Area            0.212642\n",
       "2_gaz                   0.038343\n",
       "3_gaz                   0.025994\n",
       "1_gaz                   0.018505\n",
       "5_orient                0.018194\n",
       "2_orient                0.006364\n",
       "5_gaz                   0.002545\n",
       "4_gaz                  -0.005833\n",
       "4_orient               -0.007609\n",
       "3_orient               -0.016617\n",
       "0_gaz                  -0.126501\n",
       "Surface_Area           -0.679988\n",
       "Roof_Area              -0.864714\n",
       "Name: CL, dtype: float64"
      ]
     },
     "execution_count": 24,
     "metadata": {},
     "output_type": "execute_result"
    }
   ],
   "source": [
    "corr_matrix = data_training.corr(method='pearson')\n",
    "corr_matrix['CL'].sort_values(ascending = False)"
   ]
  },
  {
   "cell_type": "code",
   "execution_count": 25,
   "metadata": {},
   "outputs": [
    {
     "data": {
      "text/plain": [
       "CL                      1.000000\n",
       "HL                      0.972061\n",
       "Overall_Height          0.864884\n",
       "Relative_Compactness    0.658746\n",
       "Wall_Area               0.391533\n",
       "Glazing_Area            0.293281\n",
       "2_gaz                   0.039579\n",
       "1_gaz                   0.037810\n",
       "5_orient                0.019204\n",
       "3_gaz                   0.017182\n",
       "4_gaz                   0.004912\n",
       "2_orient               -0.001809\n",
       "4_orient               -0.003659\n",
       "5_gaz                  -0.008196\n",
       "3_orient               -0.013571\n",
       "0_gaz                  -0.144430\n",
       "Surface_Area           -0.658746\n",
       "Roof_Area              -0.810676\n",
       "Name: CL, dtype: float64"
      ]
     },
     "execution_count": 25,
     "metadata": {},
     "output_type": "execute_result"
    }
   ],
   "source": [
    "corr_matrix = data_training.corr(method='spearman')\n",
    "corr_matrix['CL'].sort_values(ascending = False)"
   ]
  },
  {
   "cell_type": "code",
   "execution_count": 26,
   "metadata": {},
   "outputs": [
    {
     "data": {
      "text/html": [
       "<div>\n",
       "<style>\n",
       "    .dataframe thead tr:only-child th {\n",
       "        text-align: right;\n",
       "    }\n",
       "\n",
       "    .dataframe thead th {\n",
       "        text-align: left;\n",
       "    }\n",
       "\n",
       "    .dataframe tbody tr th {\n",
       "        vertical-align: top;\n",
       "    }\n",
       "</style>\n",
       "<table border=\"1\" class=\"dataframe\">\n",
       "  <thead>\n",
       "    <tr style=\"text-align: right;\">\n",
       "      <th></th>\n",
       "      <th>Relative_Compactness</th>\n",
       "      <th>Surface_Area</th>\n",
       "      <th>Wall_Area</th>\n",
       "      <th>Roof_Area</th>\n",
       "      <th>Overall_Height</th>\n",
       "      <th>Glazing_Area</th>\n",
       "      <th>HL</th>\n",
       "      <th>CL</th>\n",
       "      <th>2_orient</th>\n",
       "      <th>3_orient</th>\n",
       "      <th>4_orient</th>\n",
       "      <th>5_orient</th>\n",
       "      <th>0_gaz</th>\n",
       "      <th>1_gaz</th>\n",
       "      <th>2_gaz</th>\n",
       "      <th>3_gaz</th>\n",
       "      <th>4_gaz</th>\n",
       "      <th>5_gaz</th>\n",
       "    </tr>\n",
       "  </thead>\n",
       "  <tbody>\n",
       "    <tr>\n",
       "      <th>60</th>\n",
       "      <td>0.82</td>\n",
       "      <td>612.5</td>\n",
       "      <td>318.5</td>\n",
       "      <td>147.0</td>\n",
       "      <td>7.0</td>\n",
       "      <td>0.10</td>\n",
       "      <td>23.53</td>\n",
       "      <td>27.31</td>\n",
       "      <td>1</td>\n",
       "      <td>0</td>\n",
       "      <td>0</td>\n",
       "      <td>0</td>\n",
       "      <td>0</td>\n",
       "      <td>1</td>\n",
       "      <td>0</td>\n",
       "      <td>0</td>\n",
       "      <td>0</td>\n",
       "      <td>0</td>\n",
       "    </tr>\n",
       "    <tr>\n",
       "      <th>618</th>\n",
       "      <td>0.64</td>\n",
       "      <td>784.0</td>\n",
       "      <td>343.0</td>\n",
       "      <td>220.5</td>\n",
       "      <td>3.5</td>\n",
       "      <td>0.40</td>\n",
       "      <td>18.90</td>\n",
       "      <td>22.09</td>\n",
       "      <td>0</td>\n",
       "      <td>0</td>\n",
       "      <td>1</td>\n",
       "      <td>0</td>\n",
       "      <td>0</td>\n",
       "      <td>0</td>\n",
       "      <td>1</td>\n",
       "      <td>0</td>\n",
       "      <td>0</td>\n",
       "      <td>0</td>\n",
       "    </tr>\n",
       "    <tr>\n",
       "      <th>346</th>\n",
       "      <td>0.86</td>\n",
       "      <td>588.0</td>\n",
       "      <td>294.0</td>\n",
       "      <td>147.0</td>\n",
       "      <td>7.0</td>\n",
       "      <td>0.25</td>\n",
       "      <td>29.27</td>\n",
       "      <td>29.90</td>\n",
       "      <td>0</td>\n",
       "      <td>0</td>\n",
       "      <td>1</td>\n",
       "      <td>0</td>\n",
       "      <td>0</td>\n",
       "      <td>0</td>\n",
       "      <td>1</td>\n",
       "      <td>0</td>\n",
       "      <td>0</td>\n",
       "      <td>0</td>\n",
       "    </tr>\n",
       "    <tr>\n",
       "      <th>294</th>\n",
       "      <td>0.90</td>\n",
       "      <td>563.5</td>\n",
       "      <td>318.5</td>\n",
       "      <td>122.5</td>\n",
       "      <td>7.0</td>\n",
       "      <td>0.25</td>\n",
       "      <td>32.84</td>\n",
       "      <td>32.71</td>\n",
       "      <td>0</td>\n",
       "      <td>0</td>\n",
       "      <td>1</td>\n",
       "      <td>0</td>\n",
       "      <td>0</td>\n",
       "      <td>1</td>\n",
       "      <td>0</td>\n",
       "      <td>0</td>\n",
       "      <td>0</td>\n",
       "      <td>0</td>\n",
       "    </tr>\n",
       "    <tr>\n",
       "      <th>231</th>\n",
       "      <td>0.66</td>\n",
       "      <td>759.5</td>\n",
       "      <td>318.5</td>\n",
       "      <td>220.5</td>\n",
       "      <td>3.5</td>\n",
       "      <td>0.10</td>\n",
       "      <td>11.43</td>\n",
       "      <td>14.83</td>\n",
       "      <td>0</td>\n",
       "      <td>0</td>\n",
       "      <td>0</td>\n",
       "      <td>1</td>\n",
       "      <td>0</td>\n",
       "      <td>0</td>\n",
       "      <td>0</td>\n",
       "      <td>0</td>\n",
       "      <td>1</td>\n",
       "      <td>0</td>\n",
       "    </tr>\n",
       "  </tbody>\n",
       "</table>\n",
       "</div>"
      ],
      "text/plain": [
       "     Relative_Compactness  Surface_Area  Wall_Area  Roof_Area  Overall_Height  \\\n",
       "60                   0.82         612.5      318.5      147.0             7.0   \n",
       "618                  0.64         784.0      343.0      220.5             3.5   \n",
       "346                  0.86         588.0      294.0      147.0             7.0   \n",
       "294                  0.90         563.5      318.5      122.5             7.0   \n",
       "231                  0.66         759.5      318.5      220.5             3.5   \n",
       "\n",
       "     Glazing_Area     HL     CL  2_orient  3_orient  4_orient  5_orient  \\\n",
       "60           0.10  23.53  27.31         1         0         0         0   \n",
       "618          0.40  18.90  22.09         0         0         1         0   \n",
       "346          0.25  29.27  29.90         0         0         1         0   \n",
       "294          0.25  32.84  32.71         0         0         1         0   \n",
       "231          0.10  11.43  14.83         0         0         0         1   \n",
       "\n",
       "     0_gaz  1_gaz  2_gaz  3_gaz  4_gaz  5_gaz  \n",
       "60       0      1      0      0      0      0  \n",
       "618      0      0      1      0      0      0  \n",
       "346      0      0      1      0      0      0  \n",
       "294      0      1      0      0      0      0  \n",
       "231      0      0      0      0      1      0  "
      ]
     },
     "execution_count": 26,
     "metadata": {},
     "output_type": "execute_result"
    }
   ],
   "source": [
    "data_training.head()"
   ]
  },
  {
   "cell_type": "code",
   "execution_count": 27,
   "metadata": {
    "collapsed": true
   },
   "outputs": [],
   "source": [
    "#normalized_df=(data_training['5_gaz']-data_training['5_gaz'].mean())/data_training['5_gaz'].std()"
   ]
  },
  {
   "cell_type": "markdown",
   "metadata": {},
   "source": [
    "# Linear Regression"
   ]
  },
  {
   "cell_type": "markdown",
   "metadata": {},
   "source": [
    "# All features"
   ]
  },
  {
   "cell_type": "code",
   "execution_count": 28,
   "metadata": {},
   "outputs": [
    {
     "name": "stdout",
     "output_type": "stream",
     "text": [
      "Linear regression with all features....\n"
     ]
    }
   ],
   "source": [
    "print(\"Linear regression with all features....\")\n",
    "X = data_training.drop(['HL', 'CL'], axis = 1)\n",
    "X_columns = X[:0].columns\n",
    "X = X.values\n",
    "\n",
    "y = data_training['HL']\n"
   ]
  },
  {
   "cell_type": "code",
   "execution_count": 29,
   "metadata": {
    "collapsed": true
   },
   "outputs": [],
   "source": [
    "scalar = StandardScaler()\n",
    "clf = LinearRegression()\n",
    "\n",
    "pipeline = Pipeline([('transformer', scalar), ('estimator', clf)])\n",
    "\n",
    "scores = cross_val_score(pipeline, X, y,scoring=\"neg_mean_squared_error\", cv = 10)\n",
    "scores =np.absolute(-scores)"
   ]
  },
  {
   "cell_type": "code",
   "execution_count": 30,
   "metadata": {},
   "outputs": [
    {
     "name": "stdout",
     "output_type": "stream",
     "text": [
      "8.010020962484646\n",
      "2.129426503221402\n",
      "\n"
     ]
    }
   ],
   "source": [
    "print(scores.mean())\n",
    "print(scores.std())\n",
    "print(\"\")"
   ]
  },
  {
   "cell_type": "markdown",
   "metadata": {},
   "source": [
    "# Slight feature selection"
   ]
  },
  {
   "cell_type": "code",
   "execution_count": 31,
   "metadata": {
    "scrolled": true
   },
   "outputs": [
    {
     "name": "stdout",
     "output_type": "stream",
     "text": [
      "Linear regression with some features....\n"
     ]
    }
   ],
   "source": [
    "print(\"Linear regression with some features....\")\n",
    "X = data_training[['Relative_Compactness', 'Surface_Area','Wall_Area','Roof_Area','Overall_Height','Glazing_Area','0_gaz']]\n",
    "#X_columns = X[:0].columns\n",
    "X = X.values\n",
    "y = data_training['HL']"
   ]
  },
  {
   "cell_type": "code",
   "execution_count": 32,
   "metadata": {
    "collapsed": true
   },
   "outputs": [],
   "source": [
    "scalar = StandardScaler()\n",
    "clf = LinearRegression()\n",
    "\n",
    "pipeline = Pipeline([('transformer', scalar), ('estimator', clf)])\n",
    "\n",
    "scores = cross_val_score(pipeline, X, y,scoring=\"neg_mean_squared_error\", cv = 10)\n",
    "scores =np.absolute(-scores)"
   ]
  },
  {
   "cell_type": "code",
   "execution_count": 33,
   "metadata": {},
   "outputs": [
    {
     "name": "stdout",
     "output_type": "stream",
     "text": [
      "7.850439390906419\n",
      "2.103379922625123\n",
      "\n"
     ]
    }
   ],
   "source": [
    "print(scores.mean())\n",
    "print(scores.std())\n",
    "print(\"\")"
   ]
  },
  {
   "cell_type": "markdown",
   "metadata": {},
   "source": [
    "# Three features"
   ]
  },
  {
   "cell_type": "code",
   "execution_count": 34,
   "metadata": {},
   "outputs": [
    {
     "name": "stdout",
     "output_type": "stream",
     "text": [
      "Linear regression with three features....\n"
     ]
    }
   ],
   "source": [
    "print(\"Linear regression with three features....\")\n",
    "y = data_training['HL']\n",
    "X = data_training[['Overall_Height','Wall_Area','Glazing_Area']]"
   ]
  },
  {
   "cell_type": "code",
   "execution_count": 35,
   "metadata": {
    "collapsed": true
   },
   "outputs": [],
   "source": [
    "scalar = StandardScaler()\n",
    "clf = LinearRegression()\n",
    "\n",
    "pipeline = Pipeline([('transformer', scalar), ('estimator', clf)])\n",
    "\n",
    "scores = cross_val_score(pipeline, X, y,scoring=\"neg_mean_squared_error\", cv = 10)\n",
    "scores =np.absolute(-scores)"
   ]
  },
  {
   "cell_type": "code",
   "execution_count": 36,
   "metadata": {
    "collapsed": true
   },
   "outputs": [],
   "source": [
    "#print(list(zip(X_columns,model.coef_)))"
   ]
  },
  {
   "cell_type": "code",
   "execution_count": 37,
   "metadata": {},
   "outputs": [
    {
     "name": "stdout",
     "output_type": "stream",
     "text": [
      "9.056254916479343\n",
      "2.0659858873372032\n",
      "\n"
     ]
    }
   ],
   "source": [
    "print(scores.mean())\n",
    "print(scores.std())\n",
    "print(\"\")"
   ]
  },
  {
   "cell_type": "markdown",
   "metadata": {},
   "source": [
    "# Training full model"
   ]
  },
  {
   "cell_type": "code",
   "execution_count": 38,
   "metadata": {},
   "outputs": [
    {
     "name": "stdout",
     "output_type": "stream",
     "text": [
      "Training full model...\n"
     ]
    },
    {
     "name": "stderr",
     "output_type": "stream",
     "text": [
      "C:\\Users\\Eelis\\Anaconda\\lib\\site-packages\\sklearn\\preprocessing\\data.py:617: DataConversionWarning: Data with input dtype int64, float64 were all converted to float64 by StandardScaler.\n",
      "  return self.partial_fit(X, y)\n",
      "C:\\Users\\Eelis\\Anaconda\\lib\\site-packages\\sklearn\\base.py:462: DataConversionWarning: Data with input dtype int64, float64 were all converted to float64 by StandardScaler.\n",
      "  return self.fit(X, **fit_params).transform(X)\n",
      "C:\\Users\\Eelis\\Anaconda\\lib\\site-packages\\ipykernel_launcher.py:12: DataConversionWarning: Data with input dtype int64, float64 were all converted to float64 by StandardScaler.\n",
      "  if sys.path[0] == '':\n"
     ]
    }
   ],
   "source": [
    "print(\"Training full model...\")\n",
    "X_train = data_training[['Relative_Compactness', 'Surface_Area','Wall_Area','Roof_Area','Overall_Height','Glazing_Area','0_gaz']]\n",
    "y_train = data_training['HL']\n",
    "X_columns = X_train[:0].columns\n",
    "#Standardize training set\n",
    "sc = StandardScaler()\n",
    "X_train = sc.fit_transform(X_train)\n",
    "\n",
    "\n",
    "X_test = data_test[['Relative_Compactness', 'Surface_Area','Wall_Area','Roof_Area','Overall_Height','Glazing_Area','0_gaz']]\n",
    "#Apply same transformation on testing set\n",
    "X_test = sc.transform(X_test)\n",
    "\n",
    "y_test = data_test['HL']"
   ]
  },
  {
   "cell_type": "code",
   "execution_count": 39,
   "metadata": {
    "collapsed": true
   },
   "outputs": [],
   "source": [
    "#Getting the MSE\n",
    "model = LinearRegression()\n",
    "model.fit(X_train,y_train)\n",
    "lin_predict = model.predict(X_test)\n",
    "lin_mse = mean_squared_error(y_test, lin_predict)"
   ]
  },
  {
   "cell_type": "code",
   "execution_count": 40,
   "metadata": {},
   "outputs": [
    {
     "name": "stdout",
     "output_type": "stream",
     "text": [
      "7.997766329656859\n"
     ]
    }
   ],
   "source": [
    "print(lin_mse.mean())"
   ]
  },
  {
   "cell_type": "code",
   "execution_count": 41,
   "metadata": {},
   "outputs": [
    {
     "name": "stdout",
     "output_type": "stream",
     "text": [
      "The coefficeints of the full linear model are:\n",
      "[('Relative_Compactness', -6.607085185889754), ('Surface_Area', -3.647931645467614), ('Wall_Area', 0.7687172133268233), ('Roof_Area', -3.947033800254073), ('Overall_Height', 7.2344261214937315), ('Glazing_Area', 2.300952258469276), ('0_gaz', -1.0037514079569132)]\n",
      "\n"
     ]
    }
   ],
   "source": [
    "print(\"The coefficeints of the full linear model are:\")\n",
    "print(list(zip(X_columns,model.coef_)))\n",
    "print(\"\")"
   ]
  },
  {
   "cell_type": "code",
   "execution_count": 42,
   "metadata": {},
   "outputs": [
    {
     "data": {
      "image/png": "[encoded data removed]",
      "text/plain": [
       "<matplotlib.figure.Figure at 0x2330b3887b8>"
      ]
     },
     "metadata": {},
     "output_type": "display_data"
    },
    {
     "name": "stdout",
     "output_type": "stream",
     "text": [
      "\n"
     ]
    }
   ],
   "source": [
    "## The line / model\n",
    "predictions = model.predict(X_test)\n",
    "plt.figure()\n",
    "plt.scatter(y_test, predictions)\n",
    "y_lim = plt.ylim()\n",
    "x_lim = plt.xlim()\n",
    "plt.plot(x_lim, y_lim, 'k-', color = 'r')\n",
    "plt.ylim(y_lim)\n",
    "plt.xlim(x_lim)\n",
    "plt.xlabel('True Values')\n",
    "plt.ylabel('Prediction')\n",
    "plt.show()\n",
    "print(\"\")"
   ]
  },
  {
   "cell_type": "markdown",
   "metadata": {},
   "source": [
    "# Polynomial"
   ]
  },
  {
   "cell_type": "code",
   "execution_count": 43,
   "metadata": {},
   "outputs": [
    {
     "name": "stdout",
     "output_type": "stream",
     "text": [
      "Training polynomial\n",
      "Degree is 1\n",
      "MSE is 7.850439390906419\n",
      "Degree is 2\n",
      "MSE is 0.24113663333560237\n",
      "Degree is 3\n",
      "MSE is 0.23542839431525828\n",
      "Degree is 4\n",
      "MSE is 0.23119232817712548\n",
      "\n"
     ]
    }
   ],
   "source": [
    "print(\"Training polynomial\")\n",
    "degrees = [1,2,3,4]\n",
    "for degree in degrees: \n",
    "   # X = data_training.drop(['HL', 'CL'], axis = 1)\n",
    "    X = data_training[['Relative_Compactness', 'Surface_Area','Wall_Area','Roof_Area','Overall_Height','Glazing_Area','0_gaz']]\n",
    "    y = data_training['HL']\n",
    "    scalar = StandardScaler()\n",
    "    polynomial_features = PolynomialFeatures(degree=degree, include_bias=False)\n",
    "    linear_regression = LinearRegression()\n",
    "    model = Pipeline([(\"polynomial_features\", polynomial_features),('transformer', scalar), (\"linear_regression\", linear_regression)])\n",
    "    #model.fit(X, y)\n",
    "\n",
    "    scores = cross_val_score(model, X, y, scoring=\"neg_mean_squared_error\", cv=10)\n",
    "    scores =np.absolute(-scores)\n",
    "    print(\"Degree is \" +str(degree))\n",
    "    print(\"MSE is \" +str(scores.mean()))\n",
    "print(\"\")"
   ]
  },
  {
   "cell_type": "markdown",
   "metadata": {},
   "source": [
    "# Full model"
   ]
  },
  {
   "cell_type": "code",
   "execution_count": 44,
   "metadata": {},
   "outputs": [
    {
     "name": "stdout",
     "output_type": "stream",
     "text": [
      "Training full model...\n"
     ]
    }
   ],
   "source": [
    "print(\"Training full model...\")\n",
    "X_train = data_training[['Relative_Compactness', 'Surface_Area','Wall_Area','Roof_Area','Overall_Height','Glazing_Area','0_gaz']]\n",
    "\n",
    "y_train = data_training['HL']\n",
    "\n",
    "X_test = data_test[['Relative_Compactness', 'Surface_Area','Wall_Area','Roof_Area','Overall_Height','Glazing_Area','0_gaz']]\n",
    "y_test = data_test['HL']\n",
    "\n",
    "scalar = StandardScaler()\n",
    "\n",
    "#Polynomial and linear.\n",
    "poly_features = PolynomialFeatures(degree=2,include_bias=False)\n",
    "#poly_features = PolynomialFeatures(degree=2)\n",
    "x_poly_train = poly_features.fit_transform(X_train)\n",
    "\n",
    "x_poly_train = scalar.fit_transform(x_poly_train)\n",
    "\n",
    "model = LinearRegression()\n",
    "\n",
    "#Fit model\n",
    "model.fit(x_poly_train, y_train)\n",
    "\n",
    "# Compare with test data\n",
    "x_poly_test = poly_features.fit_transform(X_test)\n",
    "x_poly_test = scalar.transform(x_poly_test)\n",
    "\n",
    "#model.score(x_poly_test,y_test)\n",
    "poly_predict = model.predict(x_poly_test)\n",
    "poly_mse = mean_squared_error(y_test, poly_predict)\n",
    "poly_mse = np.absolute(-poly_mse)"
   ]
  },
  {
   "cell_type": "code",
   "execution_count": 45,
   "metadata": {},
   "outputs": [
    {
     "data": {
      "text/plain": [
       "35"
      ]
     },
     "execution_count": 45,
     "metadata": {},
     "output_type": "execute_result"
    }
   ],
   "source": [
    "len(model.coef_)"
   ]
  },
  {
   "cell_type": "code",
   "execution_count": 46,
   "metadata": {},
   "outputs": [
    {
     "name": "stdout",
     "output_type": "stream",
     "text": [
      "MSE of 2nd order polynoymal is: 0.2690083492762479\n",
      "\n"
     ]
    }
   ],
   "source": [
    "print(\"MSE of 2nd order polynoymal is: \" + str(poly_mse))\n",
    "print(\"\")"
   ]
  },
  {
   "cell_type": "code",
   "execution_count": 47,
   "metadata": {},
   "outputs": [
    {
     "name": "stdout",
     "output_type": "stream",
     "text": [
      "Model coefficeint are\n",
      "[ 8.22833122e+11 -6.26077427e+11  7.90947301e+11  1.55216297e+11\n",
      " -3.94004331e+12  2.95735001e+00  3.04928385e+11 -2.86476044e+04\n",
      " -5.78412686e+11  1.04403104e+13  9.99784628e+12 -1.02252667e+12\n",
      "  2.68083036e+00  8.87509784e-01  4.49050376e+12 -2.20684260e+11\n",
      "  1.28544634e+13  2.51694917e+12  2.26348113e+12  2.06831404e+12\n",
      " -9.53589141e+11 -6.78398209e+12 -2.55270288e+12 -1.07185121e+12\n",
      " -9.82149007e+11 -1.29928822e+13  4.65051548e+11 -1.29895476e+12\n",
      " -1.11241200e+12  8.84307509e+11 -1.97507360e+00  8.76268428e-02\n",
      "  3.71691980e-01  0.00000000e+00 -3.04928385e+11]\n",
      "\n"
     ]
    }
   ],
   "source": [
    "print(\"Model coefficeint are\")\n",
    "print(model.coef_)\n",
    "print(\"\")"
   ]
  },
  {
   "cell_type": "code",
   "execution_count": 48,
   "metadata": {},
   "outputs": [
    {
     "name": "stdout",
     "output_type": "stream",
     "text": [
      "Plotting prediction against model\n"
     ]
    },
    {
     "data": {
      "image/png": "[encoded data removed]",
      "text/plain": [
       "<matplotlib.figure.Figure at 0x2330a9e9898>"
      ]
     },
     "metadata": {},
     "output_type": "display_data"
    },
    {
     "name": "stdout",
     "output_type": "stream",
     "text": [
      "\n"
     ]
    }
   ],
   "source": [
    "print(\"Plotting prediction against model\")\n",
    "## The line / model\n",
    "predictions = model.predict(x_poly_test)\n",
    "plt.figure()\n",
    "plt.scatter(y_test, predictions)\n",
    "y_lim = plt.ylim()\n",
    "x_lim = plt.xlim()\n",
    "plt.plot(x_lim, y_lim, 'k-', color = 'r')\n",
    "plt.ylim(y_lim)\n",
    "plt.xlim(x_lim)\n",
    "plt.xlabel('True Values')\n",
    "plt.ylabel('Prediction')\n",
    "plt.show()\n",
    "print(\"\")"
   ]
  },
  {
   "cell_type": "markdown",
   "metadata": {
    "collapsed": true
   },
   "source": [
    "# Elastic net"
   ]
  },
  {
   "cell_type": "markdown",
   "metadata": {},
   "source": [
    "It seems reasonable, based upon the coefficients, that we would want some regularization. One option could have been to go with Ridge regression. However, based upon the paper, some features were selected to be irrelivent. Hence, I think a Laso regression could have been quite reasonable since it would perform automatic feature selection. However, I decided to go with more a middle ground and implement the elastic net.\n"
   ]
  },
  {
   "cell_type": "code",
   "execution_count": 49,
   "metadata": {},
   "outputs": [
    {
     "name": "stdout",
     "output_type": "stream",
     "text": [
      "Elastic net....\n",
      "Fitting 5 folds for each of 30 candidates, totalling 150 fits\n"
     ]
    },
    {
     "name": "stderr",
     "output_type": "stream",
     "text": [
      "[Parallel(n_jobs=1)]: Using backend SequentialBackend with 1 concurrent workers.\n",
      "[Parallel(n_jobs=1)]: Done 150 out of 150 | elapsed:  1.7min finished\n",
      "C:\\Users\\Eelis\\Anaconda\\lib\\site-packages\\sklearn\\model_selection\\_search.py:841: DeprecationWarning: The default of the `iid` parameter will change from True to False in version 0.22 and will be removed in 0.24. This will change numeric results when test-set sizes are unequal.\n",
      "  DeprecationWarning)\n"
     ]
    },
    {
     "name": "stdout",
     "output_type": "stream",
     "text": [
      "Best parameters are...\n",
      "{'clf__alpha': 0.01, 'clf__l1_ratio': 1}\n",
      "\n"
     ]
    }
   ],
   "source": [
    "print(\"Elastic net....\")\n",
    "X = data_training.drop(['HL', 'CL'], axis = 1)\n",
    "y = data_training['HL']\n",
    "\n",
    "poly = PolynomialFeatures(degree=3,include_bias=False)\n",
    "X_poly = poly.fit_transform(X)\n",
    "\n",
    "pipe = Pipeline([\n",
    "        ('scale', StandardScaler()),\n",
    "        ('clf', ElasticNet(max_iter = 100000,tol=0.0001))])\n",
    "\n",
    "param_grid = [\n",
    "    {'clf__alpha' : [0.01,0.1,1,5,10],\n",
    "     'clf__l1_ratio':[0.2,0.4,0.6,0.7,0.8,1]}]\n",
    "\n",
    "\n",
    "grid = GridSearchCV(pipe, param_grid=param_grid, cv=5, n_jobs=1, verbose=1, scoring= \"neg_mean_squared_error\")\n",
    "grid.fit(X_poly, y)\n",
    "print(\"Best parameters are...\")\n",
    "print(grid.best_params_)\n",
    "print(\"\")"
   ]
  },
  {
   "cell_type": "markdown",
   "metadata": {
    "collapsed": true
   },
   "source": [
    "# Elastic Net : Full model"
   ]
  },
  {
   "cell_type": "code",
   "execution_count": 50,
   "metadata": {},
   "outputs": [
    {
     "name": "stdout",
     "output_type": "stream",
     "text": [
      "Training full elastic model...\n"
     ]
    }
   ],
   "source": [
    "print(\"Training full elastic model...\")\n",
    "\n",
    "sc = StandardScaler()\n",
    "poly = PolynomialFeatures(degree=3,include_bias=False)\n",
    "\n",
    "X_train = data_training.drop(['HL', 'CL'], axis = 1)\n",
    "X_poly_train = poly.fit_transform(X_train)\n",
    "X_poly_train = sc.fit_transform(X_poly_train)\n",
    "y_train = data_training['HL']\n",
    "\n",
    "X_test = data_test.drop(['HL', 'CL'], axis = 1)\n",
    "X_poly_test = poly.fit_transform(X_test)\n",
    "X_poly_test = sc.transform(X_poly_test)\n",
    "y_test = data_test['HL']"
   ]
  },
  {
   "cell_type": "code",
   "execution_count": 51,
   "metadata": {},
   "outputs": [
    {
     "data": {
      "text/plain": [
       "ElasticNet(alpha=0.01, copy_X=True, fit_intercept=True, l1_ratio=1,\n",
       "      max_iter=100000, normalize=False, positive=False, precompute=False,\n",
       "      random_state=None, selection='cyclic', tol=0.0001, warm_start=False)"
      ]
     },
     "execution_count": 51,
     "metadata": {},
     "output_type": "execute_result"
    }
   ],
   "source": [
    "elastic_net = ElasticNet(alpha = 0.01,l1_ratio = 1,max_iter = 100000)\n",
    "elastic_net.fit(X_poly_train,y_train)"
   ]
  },
  {
   "cell_type": "code",
   "execution_count": 52,
   "metadata": {},
   "outputs": [
    {
     "data": {
      "text/plain": [
       "968"
      ]
     },
     "execution_count": 52,
     "metadata": {},
     "output_type": "execute_result"
    }
   ],
   "source": [
    "len(elastic_net.coef_)"
   ]
  },
  {
   "cell_type": "code",
   "execution_count": 53,
   "metadata": {},
   "outputs": [
    {
     "name": "stdout",
     "output_type": "stream",
     "text": [
      "Non zero values....\n",
      "59\n"
     ]
    }
   ],
   "source": [
    "print(\"Non zero values....\")\n",
    "print(np.count_nonzero(elastic_net.coef_))"
   ]
  },
  {
   "cell_type": "code",
   "execution_count": 54,
   "metadata": {},
   "outputs": [
    {
     "data": {
      "text/plain": [
       "array([ 0.00000000e+00, -0.00000000e+00, -0.00000000e+00,  0.00000000e+00,\n",
       "       -0.00000000e+00,  0.00000000e+00,  0.00000000e+00, -0.00000000e+00,\n",
       "       -0.00000000e+00,  0.00000000e+00, -0.00000000e+00,  0.00000000e+00,\n",
       "       -0.00000000e+00, -0.00000000e+00,  0.00000000e+00,  0.00000000e+00,\n",
       "        0.00000000e+00,  1.81898406e+00, -0.00000000e+00,  0.00000000e+00,\n",
       "       -0.00000000e+00,  0.00000000e+00,  0.00000000e+00, -0.00000000e+00,\n",
       "       -0.00000000e+00,  0.00000000e+00, -0.00000000e+00,  0.00000000e+00,\n",
       "       -0.00000000e+00, -0.00000000e+00,  0.00000000e+00,  0.00000000e+00,\n",
       "       -0.00000000e+00, -0.00000000e+00,  0.00000000e+00,  0.00000000e+00,\n",
       "       -0.00000000e+00,  0.00000000e+00, -0.00000000e+00, -0.00000000e+00,\n",
       "        0.00000000e+00, -0.00000000e+00, -0.00000000e+00,  0.00000000e+00,\n",
       "       -0.00000000e+00,  0.00000000e+00,  0.00000000e+00, -0.00000000e+00,\n",
       "       -0.00000000e+00,  0.00000000e+00,  0.00000000e+00,  0.00000000e+00,\n",
       "       -0.00000000e+00, -0.00000000e+00,  0.00000000e+00, -0.00000000e+00,\n",
       "       -0.00000000e+00,  0.00000000e+00, -0.00000000e+00,  0.00000000e+00,\n",
       "       -0.00000000e+00,  0.00000000e+00, -0.00000000e+00, -0.00000000e+00,\n",
       "        0.00000000e+00, -0.00000000e+00, -0.00000000e+00,  0.00000000e+00,\n",
       "        0.00000000e+00, -0.00000000e+00,  0.00000000e+00, -0.00000000e+00,\n",
       "        0.00000000e+00,  0.00000000e+00, -0.00000000e+00,  0.00000000e+00,\n",
       "        0.00000000e+00, -0.00000000e+00, -0.00000000e+00, -0.00000000e+00,\n",
       "       -0.00000000e+00, -0.00000000e+00, -0.00000000e+00,  0.00000000e+00,\n",
       "       -0.00000000e+00,  0.00000000e+00,  0.00000000e+00,  0.00000000e+00,\n",
       "        0.00000000e+00, -0.00000000e+00, -0.00000000e+00,  0.00000000e+00,\n",
       "        0.00000000e+00, -0.00000000e+00, -0.00000000e+00,  0.00000000e+00,\n",
       "       -0.00000000e+00,  0.00000000e+00,  0.00000000e+00,  0.00000000e+00,\n",
       "        0.00000000e+00,  0.00000000e+00,  0.00000000e+00, -0.00000000e+00,\n",
       "       -0.00000000e+00,  0.00000000e+00,  0.00000000e+00, -0.00000000e+00,\n",
       "        0.00000000e+00,  0.00000000e+00,  0.00000000e+00,  0.00000000e+00,\n",
       "       -0.00000000e+00, -0.00000000e+00,  0.00000000e+00, -0.00000000e+00,\n",
       "       -0.00000000e+00,  0.00000000e+00, -0.00000000e+00, -0.00000000e+00,\n",
       "        0.00000000e+00, -0.00000000e+00, -0.00000000e+00, -0.00000000e+00,\n",
       "        0.00000000e+00, -0.00000000e+00, -0.00000000e+00,  0.00000000e+00,\n",
       "        0.00000000e+00,  0.00000000e+00,  0.00000000e+00, -0.00000000e+00,\n",
       "        0.00000000e+00,  0.00000000e+00,  0.00000000e+00,  0.00000000e+00,\n",
       "        0.00000000e+00,  0.00000000e+00,  0.00000000e+00,  0.00000000e+00,\n",
       "        0.00000000e+00,  0.00000000e+00, -0.00000000e+00,  0.00000000e+00,\n",
       "        0.00000000e+00,  0.00000000e+00, -0.00000000e+00,  0.00000000e+00,\n",
       "        0.00000000e+00,  0.00000000e+00,  0.00000000e+00,  0.00000000e+00,\n",
       "        5.76948922e+00,  0.00000000e+00,  0.00000000e+00,  0.00000000e+00,\n",
       "       -0.00000000e+00,  1.56617636e+00,  0.00000000e+00,  0.00000000e+00,\n",
       "       -1.51200388e-02,  0.00000000e+00, -3.87147992e-01,  0.00000000e+00,\n",
       "       -0.00000000e+00, -0.00000000e+00,  2.76667243e-01,  0.00000000e+00,\n",
       "       -0.00000000e+00, -0.00000000e+00, -0.00000000e+00, -0.00000000e+00,\n",
       "        0.00000000e+00,  0.00000000e+00, -0.00000000e+00, -0.00000000e+00,\n",
       "        0.00000000e+00, -0.00000000e+00,  0.00000000e+00, -0.00000000e+00,\n",
       "       -0.00000000e+00,  0.00000000e+00,  0.00000000e+00, -0.00000000e+00,\n",
       "       -4.85049312e+00,  0.00000000e+00,  0.00000000e+00,  0.00000000e+00,\n",
       "       -0.00000000e+00, -0.00000000e+00,  0.00000000e+00, -0.00000000e+00,\n",
       "        0.00000000e+00,  0.00000000e+00, -0.00000000e+00,  0.00000000e+00,\n",
       "        0.00000000e+00,  0.00000000e+00, -1.11490606e+01, -0.00000000e+00,\n",
       "        0.00000000e+00, -0.00000000e+00, -0.00000000e+00,  0.00000000e+00,\n",
       "        0.00000000e+00,  0.00000000e+00, -0.00000000e+00, -0.00000000e+00,\n",
       "        0.00000000e+00,  0.00000000e+00, -0.00000000e+00,  0.00000000e+00,\n",
       "        0.00000000e+00, -0.00000000e+00, -0.00000000e+00, -0.00000000e+00,\n",
       "       -4.34279822e-01, -0.00000000e+00, -0.00000000e+00, -0.00000000e+00,\n",
       "       -0.00000000e+00,  0.00000000e+00,  0.00000000e+00,  0.00000000e+00,\n",
       "        0.00000000e+00, -0.00000000e+00,  0.00000000e+00,  0.00000000e+00,\n",
       "        5.46682174e-02, -0.00000000e+00, -0.00000000e+00,  0.00000000e+00,\n",
       "       -0.00000000e+00,  0.00000000e+00,  0.00000000e+00,  0.00000000e+00,\n",
       "        0.00000000e+00, -0.00000000e+00,  0.00000000e+00, -0.00000000e+00,\n",
       "       -0.00000000e+00,  0.00000000e+00,  0.00000000e+00, -0.00000000e+00,\n",
       "        0.00000000e+00,  0.00000000e+00,  0.00000000e+00,  0.00000000e+00,\n",
       "        0.00000000e+00, -0.00000000e+00, -0.00000000e+00, -0.00000000e+00,\n",
       "       -0.00000000e+00,  0.00000000e+00, -0.00000000e+00, -0.00000000e+00,\n",
       "       -0.00000000e+00,  0.00000000e+00, -0.00000000e+00, -0.00000000e+00,\n",
       "        0.00000000e+00, -5.36314760e-03, -0.00000000e+00, -0.00000000e+00,\n",
       "        0.00000000e+00,  1.02977203e-01,  1.96947954e-02, -0.00000000e+00,\n",
       "        0.00000000e+00,  0.00000000e+00,  0.00000000e+00,  0.00000000e+00,\n",
       "        0.00000000e+00,  0.00000000e+00,  0.00000000e+00,  0.00000000e+00,\n",
       "        0.00000000e+00,  0.00000000e+00, -0.00000000e+00,  0.00000000e+00,\n",
       "        0.00000000e+00,  0.00000000e+00, -0.00000000e+00,  0.00000000e+00,\n",
       "        0.00000000e+00,  0.00000000e+00,  0.00000000e+00,  0.00000000e+00,\n",
       "       -0.00000000e+00, -0.00000000e+00, -0.00000000e+00,  0.00000000e+00,\n",
       "       -0.00000000e+00,  0.00000000e+00, -0.00000000e+00, -0.00000000e+00,\n",
       "        0.00000000e+00,  0.00000000e+00, -0.00000000e+00,  0.00000000e+00,\n",
       "       -0.00000000e+00,  0.00000000e+00, -0.00000000e+00, -0.00000000e+00,\n",
       "       -0.00000000e+00,  0.00000000e+00,  0.00000000e+00,  0.00000000e+00,\n",
       "       -0.00000000e+00, -0.00000000e+00,  0.00000000e+00, -0.00000000e+00,\n",
       "       -0.00000000e+00,  0.00000000e+00, -0.00000000e+00,  0.00000000e+00,\n",
       "       -0.00000000e+00,  0.00000000e+00,  0.00000000e+00, -0.00000000e+00,\n",
       "        0.00000000e+00, -0.00000000e+00, -0.00000000e+00,  0.00000000e+00,\n",
       "        0.00000000e+00, -0.00000000e+00,  0.00000000e+00, -0.00000000e+00,\n",
       "        0.00000000e+00, -0.00000000e+00,  0.00000000e+00,  0.00000000e+00,\n",
       "        0.00000000e+00, -0.00000000e+00,  0.00000000e+00, -0.00000000e+00,\n",
       "       -0.00000000e+00, -0.00000000e+00,  0.00000000e+00,  0.00000000e+00,\n",
       "       -0.00000000e+00,  0.00000000e+00,  0.00000000e+00,  0.00000000e+00,\n",
       "       -0.00000000e+00, -0.00000000e+00, -0.00000000e+00,  0.00000000e+00,\n",
       "        0.00000000e+00,  0.00000000e+00, -0.00000000e+00,  0.00000000e+00,\n",
       "       -9.65411628e-03,  0.00000000e+00,  0.00000000e+00,  0.00000000e+00,\n",
       "        0.00000000e+00,  0.00000000e+00, -0.00000000e+00,  0.00000000e+00,\n",
       "        0.00000000e+00,  0.00000000e+00,  0.00000000e+00, -0.00000000e+00,\n",
       "        0.00000000e+00,  0.00000000e+00,  0.00000000e+00,  0.00000000e+00,\n",
       "       -1.78347625e-02, -0.00000000e+00,  0.00000000e+00, -0.00000000e+00,\n",
       "       -0.00000000e+00,  0.00000000e+00, -0.00000000e+00, -0.00000000e+00,\n",
       "        0.00000000e+00, -0.00000000e+00, -0.00000000e+00, -0.00000000e+00,\n",
       "        0.00000000e+00, -0.00000000e+00, -0.00000000e+00,  0.00000000e+00,\n",
       "        0.00000000e+00,  0.00000000e+00,  0.00000000e+00, -0.00000000e+00,\n",
       "        0.00000000e+00,  0.00000000e+00,  0.00000000e+00,  0.00000000e+00,\n",
       "        0.00000000e+00, -0.00000000e+00,  0.00000000e+00,  0.00000000e+00,\n",
       "        0.00000000e+00,  0.00000000e+00,  0.00000000e+00,  0.00000000e+00,\n",
       "        0.00000000e+00,  0.00000000e+00, -0.00000000e+00,  0.00000000e+00,\n",
       "        0.00000000e+00,  0.00000000e+00,  0.00000000e+00,  0.00000000e+00,\n",
       "       -5.52087455e+00, -0.00000000e+00,  0.00000000e+00,  1.92851881e-01,\n",
       "        0.00000000e+00, -1.88008013e-02, -0.00000000e+00,  0.00000000e+00,\n",
       "       -2.85541175e-01, -0.00000000e+00,  5.74412547e-02, -0.00000000e+00,\n",
       "        0.00000000e+00, -6.33321501e-02, -0.00000000e+00,  1.64413564e+01,\n",
       "       -0.00000000e+00,  0.00000000e+00, -0.00000000e+00, -0.00000000e+00,\n",
       "        0.00000000e+00,  0.00000000e+00, -0.00000000e+00,  0.00000000e+00,\n",
       "       -0.00000000e+00,  0.00000000e+00, -0.00000000e+00,  0.00000000e+00,\n",
       "        1.28419739e+00,  0.00000000e+00, -0.00000000e+00,  0.00000000e+00,\n",
       "       -0.00000000e+00, -0.00000000e+00, -0.00000000e+00,  0.00000000e+00,\n",
       "        0.00000000e+00, -0.00000000e+00,  0.00000000e+00,  0.00000000e+00,\n",
       "        0.00000000e+00,  0.00000000e+00, -0.00000000e+00,  0.00000000e+00,\n",
       "        0.00000000e+00,  0.00000000e+00,  0.00000000e+00, -0.00000000e+00,\n",
       "        0.00000000e+00, -7.16313941e-05,  0.00000000e+00,  0.00000000e+00,\n",
       "        0.00000000e+00,  0.00000000e+00,  0.00000000e+00, -0.00000000e+00,\n",
       "        0.00000000e+00,  0.00000000e+00,  5.31563828e-03, -0.00000000e+00,\n",
       "       -0.00000000e+00,  0.00000000e+00,  0.00000000e+00, -0.00000000e+00,\n",
       "        0.00000000e+00, -0.00000000e+00, -0.00000000e+00,  0.00000000e+00,\n",
       "       -0.00000000e+00, -0.00000000e+00,  0.00000000e+00, -0.00000000e+00,\n",
       "       -0.00000000e+00,  0.00000000e+00, -0.00000000e+00, -0.00000000e+00,\n",
       "       -0.00000000e+00,  0.00000000e+00, -0.00000000e+00, -0.00000000e+00,\n",
       "        0.00000000e+00,  0.00000000e+00,  0.00000000e+00,  0.00000000e+00,\n",
       "       -0.00000000e+00,  0.00000000e+00,  0.00000000e+00,  0.00000000e+00,\n",
       "        0.00000000e+00,  0.00000000e+00, -0.00000000e+00,  0.00000000e+00,\n",
       "        0.00000000e+00,  0.00000000e+00,  0.00000000e+00,  0.00000000e+00,\n",
       "        0.00000000e+00,  0.00000000e+00,  0.00000000e+00, -0.00000000e+00,\n",
       "        0.00000000e+00,  0.00000000e+00,  0.00000000e+00,  0.00000000e+00,\n",
       "       -0.00000000e+00,  0.00000000e+00, -0.00000000e+00, -0.00000000e+00,\n",
       "        0.00000000e+00, -0.00000000e+00, -1.77129362e-03,  2.48676072e-02,\n",
       "        0.00000000e+00, -0.00000000e+00,  0.00000000e+00, -0.00000000e+00,\n",
       "        0.00000000e+00,  0.00000000e+00, -0.00000000e+00, -2.62332181e-01,\n",
       "        0.00000000e+00, -0.00000000e+00,  0.00000000e+00, -0.00000000e+00,\n",
       "        0.00000000e+00, -0.00000000e+00, -0.00000000e+00,  0.00000000e+00,\n",
       "       -2.38460084e-01,  1.05167563e-01,  0.00000000e+00,  0.00000000e+00,\n",
       "       -0.00000000e+00,  0.00000000e+00, -0.00000000e+00,  0.00000000e+00,\n",
       "        0.00000000e+00, -0.00000000e+00, -0.00000000e+00,  0.00000000e+00,\n",
       "       -0.00000000e+00,  0.00000000e+00,  0.00000000e+00,  0.00000000e+00,\n",
       "        0.00000000e+00,  0.00000000e+00, -0.00000000e+00,  0.00000000e+00,\n",
       "        0.00000000e+00,  0.00000000e+00,  0.00000000e+00, -0.00000000e+00,\n",
       "        0.00000000e+00,  0.00000000e+00,  5.28360490e-02,  1.82316835e-02,\n",
       "       -7.90436274e-03, -6.49468970e-03,  0.00000000e+00, -0.00000000e+00,\n",
       "       -0.00000000e+00,  0.00000000e+00, -0.00000000e+00, -0.00000000e+00,\n",
       "       -0.00000000e+00, -0.00000000e+00, -0.00000000e+00, -0.00000000e+00,\n",
       "        0.00000000e+00, -0.00000000e+00, -0.00000000e+00,  3.51769660e-02,\n",
       "       -0.00000000e+00,  0.00000000e+00,  0.00000000e+00,  0.00000000e+00,\n",
       "        0.00000000e+00,  0.00000000e+00,  0.00000000e+00,  0.00000000e+00,\n",
       "        0.00000000e+00, -0.00000000e+00,  0.00000000e+00,  0.00000000e+00,\n",
       "        0.00000000e+00,  0.00000000e+00,  0.00000000e+00,  0.00000000e+00,\n",
       "        0.00000000e+00,  0.00000000e+00, -0.00000000e+00,  0.00000000e+00,\n",
       "        0.00000000e+00,  0.00000000e+00,  0.00000000e+00,  0.00000000e+00,\n",
       "       -0.00000000e+00,  0.00000000e+00,  0.00000000e+00, -0.00000000e+00,\n",
       "        0.00000000e+00, -1.47919048e-01, -0.00000000e+00, -0.00000000e+00,\n",
       "       -0.00000000e+00,  0.00000000e+00, -2.62104388e-01,  7.50224587e-03,\n",
       "       -0.00000000e+00,  0.00000000e+00,  0.00000000e+00, -0.00000000e+00,\n",
       "       -0.00000000e+00,  0.00000000e+00,  0.00000000e+00, -0.00000000e+00,\n",
       "        0.00000000e+00, -0.00000000e+00,  0.00000000e+00,  0.00000000e+00,\n",
       "        0.00000000e+00,  0.00000000e+00,  0.00000000e+00, -0.00000000e+00,\n",
       "        0.00000000e+00, -1.90397874e-02, -0.00000000e+00,  3.58549402e-02,\n",
       "        0.00000000e+00, -0.00000000e+00,  0.00000000e+00,  0.00000000e+00,\n",
       "        0.00000000e+00,  0.00000000e+00,  1.25372466e-01, -0.00000000e+00,\n",
       "       -1.44442648e-02, -0.00000000e+00, -0.00000000e+00,  0.00000000e+00,\n",
       "       -0.00000000e+00, -4.09192082e-02,  3.04850500e-02,  0.00000000e+00,\n",
       "       -0.00000000e+00,  4.99925289e-02, -0.00000000e+00, -0.00000000e+00,\n",
       "       -0.00000000e+00, -8.45607866e-02,  6.96235579e-02,  0.00000000e+00,\n",
       "        0.00000000e+00, -0.00000000e+00,  0.00000000e+00,  0.00000000e+00,\n",
       "        0.00000000e+00,  0.00000000e+00,  0.00000000e+00, -0.00000000e+00,\n",
       "        0.00000000e+00,  0.00000000e+00,  0.00000000e+00,  0.00000000e+00,\n",
       "       -0.00000000e+00,  0.00000000e+00,  0.00000000e+00,  0.00000000e+00,\n",
       "        0.00000000e+00,  0.00000000e+00,  0.00000000e+00, -0.00000000e+00,\n",
       "        0.00000000e+00,  0.00000000e+00,  0.00000000e+00,  0.00000000e+00,\n",
       "        0.00000000e+00, -0.00000000e+00,  0.00000000e+00,  0.00000000e+00,\n",
       "        0.00000000e+00, -0.00000000e+00,  0.00000000e+00,  6.65906434e-02,\n",
       "       -8.09232301e-02,  0.00000000e+00,  0.00000000e+00,  0.00000000e+00,\n",
       "        0.00000000e+00,  0.00000000e+00, -6.62777970e-02,  0.00000000e+00,\n",
       "        6.69386741e-03,  3.08637959e-02, -0.00000000e+00,  0.00000000e+00,\n",
       "        0.00000000e+00,  0.00000000e+00,  0.00000000e+00,  4.29576217e-02,\n",
       "       -7.69975093e-02, -1.33070597e-02,  2.71520385e-02, -0.00000000e+00,\n",
       "       -0.00000000e+00,  0.00000000e+00,  0.00000000e+00,  4.26696711e-02,\n",
       "       -0.00000000e+00, -3.13602100e-02, -0.00000000e+00,  0.00000000e+00,\n",
       "       -0.00000000e+00,  0.00000000e+00,  0.00000000e+00,  0.00000000e+00,\n",
       "        0.00000000e+00, -0.00000000e+00, -1.56399504e-02,  0.00000000e+00,\n",
       "        0.00000000e+00,  0.00000000e+00,  0.00000000e+00,  0.00000000e+00,\n",
       "        0.00000000e+00,  0.00000000e+00,  0.00000000e+00,  0.00000000e+00,\n",
       "        0.00000000e+00,  0.00000000e+00, -0.00000000e+00,  0.00000000e+00,\n",
       "        0.00000000e+00,  0.00000000e+00, -0.00000000e+00,  0.00000000e+00,\n",
       "        0.00000000e+00,  0.00000000e+00,  0.00000000e+00, -0.00000000e+00,\n",
       "        0.00000000e+00,  0.00000000e+00,  0.00000000e+00,  0.00000000e+00,\n",
       "        0.00000000e+00,  0.00000000e+00, -0.00000000e+00, -0.00000000e+00,\n",
       "        0.00000000e+00,  0.00000000e+00,  0.00000000e+00,  0.00000000e+00,\n",
       "        0.00000000e+00,  0.00000000e+00,  0.00000000e+00,  0.00000000e+00,\n",
       "        0.00000000e+00,  0.00000000e+00,  0.00000000e+00,  0.00000000e+00,\n",
       "        0.00000000e+00,  0.00000000e+00,  0.00000000e+00,  0.00000000e+00,\n",
       "        0.00000000e+00,  0.00000000e+00,  0.00000000e+00,  0.00000000e+00,\n",
       "        0.00000000e+00,  0.00000000e+00,  0.00000000e+00,  0.00000000e+00,\n",
       "        0.00000000e+00,  0.00000000e+00,  0.00000000e+00,  0.00000000e+00,\n",
       "        0.00000000e+00,  0.00000000e+00,  0.00000000e+00,  0.00000000e+00,\n",
       "        0.00000000e+00,  0.00000000e+00,  0.00000000e+00,  0.00000000e+00,\n",
       "        0.00000000e+00, -0.00000000e+00,  0.00000000e+00,  0.00000000e+00,\n",
       "        0.00000000e+00, -0.00000000e+00,  0.00000000e+00,  0.00000000e+00,\n",
       "        0.00000000e+00,  0.00000000e+00,  0.00000000e+00, -0.00000000e+00,\n",
       "        0.00000000e+00,  0.00000000e+00,  0.00000000e+00,  0.00000000e+00,\n",
       "       -0.00000000e+00, -0.00000000e+00,  0.00000000e+00, -0.00000000e+00,\n",
       "        0.00000000e+00,  0.00000000e+00,  0.00000000e+00,  0.00000000e+00,\n",
       "        0.00000000e+00,  0.00000000e+00,  0.00000000e+00,  0.00000000e+00,\n",
       "        0.00000000e+00,  0.00000000e+00,  0.00000000e+00,  0.00000000e+00,\n",
       "        0.00000000e+00,  0.00000000e+00,  0.00000000e+00,  0.00000000e+00,\n",
       "        0.00000000e+00,  0.00000000e+00,  0.00000000e+00,  0.00000000e+00,\n",
       "        0.00000000e+00,  0.00000000e+00,  0.00000000e+00,  0.00000000e+00,\n",
       "        0.00000000e+00,  0.00000000e+00, -0.00000000e+00,  0.00000000e+00,\n",
       "        0.00000000e+00,  0.00000000e+00, -0.00000000e+00,  0.00000000e+00,\n",
       "        0.00000000e+00,  0.00000000e+00,  0.00000000e+00, -0.00000000e+00,\n",
       "       -0.00000000e+00,  0.00000000e+00, -0.00000000e+00, -0.00000000e+00,\n",
       "        0.00000000e+00, -0.00000000e+00, -0.00000000e+00, -0.00000000e+00,\n",
       "        0.00000000e+00,  0.00000000e+00,  0.00000000e+00,  0.00000000e+00,\n",
       "        0.00000000e+00,  0.00000000e+00,  0.00000000e+00, -0.00000000e+00,\n",
       "        0.00000000e+00,  0.00000000e+00,  0.00000000e+00,  0.00000000e+00,\n",
       "        0.00000000e+00, -0.00000000e+00,  0.00000000e+00,  0.00000000e+00,\n",
       "        0.00000000e+00,  0.00000000e+00,  0.00000000e+00,  0.00000000e+00,\n",
       "        0.00000000e+00,  0.00000000e+00, -0.00000000e+00,  0.00000000e+00,\n",
       "        0.00000000e+00, -0.00000000e+00,  0.00000000e+00, -0.00000000e+00,\n",
       "        0.00000000e+00, -0.00000000e+00, -0.00000000e+00,  0.00000000e+00,\n",
       "        0.00000000e+00,  0.00000000e+00,  0.00000000e+00, -0.00000000e+00,\n",
       "        0.00000000e+00,  0.00000000e+00,  0.00000000e+00,  0.00000000e+00,\n",
       "        0.00000000e+00, -0.00000000e+00,  0.00000000e+00,  0.00000000e+00,\n",
       "        0.00000000e+00,  0.00000000e+00,  0.00000000e+00,  0.00000000e+00,\n",
       "        0.00000000e+00,  0.00000000e+00,  0.00000000e+00,  0.00000000e+00,\n",
       "        0.00000000e+00,  0.00000000e+00,  0.00000000e+00,  0.00000000e+00,\n",
       "       -0.00000000e+00,  0.00000000e+00,  0.00000000e+00,  0.00000000e+00,\n",
       "        0.00000000e+00,  0.00000000e+00,  0.00000000e+00,  0.00000000e+00,\n",
       "        0.00000000e+00,  0.00000000e+00,  0.00000000e+00,  0.00000000e+00,\n",
       "        0.00000000e+00,  0.00000000e+00,  0.00000000e+00,  0.00000000e+00,\n",
       "        0.00000000e+00,  0.00000000e+00,  0.00000000e+00,  0.00000000e+00,\n",
       "        0.00000000e+00,  0.00000000e+00,  0.00000000e+00,  0.00000000e+00,\n",
       "        0.00000000e+00,  0.00000000e+00,  0.00000000e+00,  0.00000000e+00,\n",
       "        0.00000000e+00,  0.00000000e+00,  0.00000000e+00,  0.00000000e+00,\n",
       "        0.00000000e+00,  0.00000000e+00,  0.00000000e+00,  0.00000000e+00,\n",
       "       -0.00000000e+00,  0.00000000e+00,  0.00000000e+00,  0.00000000e+00,\n",
       "        0.00000000e+00,  0.00000000e+00,  0.00000000e+00,  0.00000000e+00,\n",
       "        0.00000000e+00,  0.00000000e+00, -0.00000000e+00,  0.00000000e+00,\n",
       "        0.00000000e+00,  0.00000000e+00,  0.00000000e+00,  0.00000000e+00,\n",
       "        0.00000000e+00,  0.00000000e+00,  0.00000000e+00,  0.00000000e+00])"
      ]
     },
     "execution_count": 54,
     "metadata": {},
     "output_type": "execute_result"
    }
   ],
   "source": [
    "elastic_net.coef_"
   ]
  },
  {
   "cell_type": "code",
   "execution_count": 55,
   "metadata": {},
   "outputs": [
    {
     "name": "stdout",
     "output_type": "stream",
     "text": [
      "Elastic MSE is:\n",
      "4.7603626399898875\n"
     ]
    }
   ],
   "source": [
    "poly_predict = elastic_net.predict(X_poly_test)\n",
    "poly_mse = mean_squared_error(y_test, poly_predict)\n",
    "poly_mse = np.absolute(-poly_mse)\n",
    "print(\"Elastic MSE is:\")\n",
    "print(poly_mse)"
   ]
  }
 ],
 "metadata": {
  "kernelspec": {
   "display_name": "Python 3",
   "language": "python",
   "name": "python3"
  },
  "language_info": {
   "codemirror_mode": {
    "name": "ipython",
    "version": 3
   },
   "file_extension": ".py",
   "mimetype": "text/x-python",
   "name": "python",
   "nbconvert_exporter": "python",
   "pygments_lexer": "ipython3",
   "version": "3.6.1"
  }
 },
 "nbformat": 4,
 "nbformat_minor": 2
}
