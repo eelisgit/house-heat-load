{
 "cells": [
  {
   "cell_type": "code",
   "execution_count": null,
   "metadata": {
    "collapsed": true
   },
   "outputs": [],
   "source": [
    "import pandas as pd\n",
    "import numpy as np\n",
    "import seaborn as sns\n",
    "from sklearn.pipeline import make_pipeline\n",
    "from sklearn.model_selection import LeaveOneOut\n",
    "from sklearn.pipeline import Pipeline\n",
    "from sklearn.preprocessing import StandardScaler\n",
    "from sklearn.svm import LinearSVC\n",
    "from sklearn.svm import SVC\n",
    "from sklearn.preprocessing import PolynomialFeatures\n",
    "import matplotlib.pyplot as plt\n",
    "from sklearn.model_selection import train_test_split\n",
    "from sklearn.model_selection import cross_val_score\n",
    "from sklearn.model_selection import cross_val_predict\n",
    "from sklearn.linear_model import LogisticRegression\n",
    "from sklearn.linear_model import LogisticRegressionCV\n",
    "from sklearn.metrics import confusion_matrix\n",
    "from sklearn.metrics import precision_score,recall_score\n",
    "from sklearn.metrics import classification_report\n",
    "from sklearn.multiclass import OneVsOneClassifier\n",
    "from sklearn.linear_model import SGDClassifier\n",
    "from sklearn.model_selection import GridSearchCV\n",
    "from sklearn.model_selection import StratifiedKFold\n",
    "import seaborn as sns"
   ]
  },
  {
   "cell_type": "markdown",
   "metadata": {},
   "source": [
    "# Loading data"
   ]
  },
  {
   "cell_type": "code",
   "execution_count": null,
   "metadata": {
    "collapsed": true
   },
   "outputs": [],
   "source": [
    "X = pd.read_csv(r'X.csv',header=None)\n",
    "y = pd.read_csv(r'y.csv',header = None)"
   ]
  },
  {
   "cell_type": "code",
   "execution_count": null,
   "metadata": {
    "collapsed": true
   },
   "outputs": [],
   "source": [
    "y.columns = ['Label']\n",
    "data = pd.concat([X, y], axis=1)\n",
    "\n",
    "#Mapping integers to strings\n",
    "data['Label'] = data['Label'].map({0.0: 'book', 1.0: 'plastic case'})"
   ]
  },
  {
   "cell_type": "code",
   "execution_count": null,
   "metadata": {},
   "outputs": [],
   "source": [
    "data.head()"
   ]
  },
  {
   "cell_type": "markdown",
   "metadata": {},
   "source": [
    "# Cleaning data"
   ]
  },
  {
   "cell_type": "code",
   "execution_count": null,
   "metadata": {},
   "outputs": [],
   "source": [
    "data.info()"
   ]
  },
  {
   "cell_type": "code",
   "execution_count": null,
   "metadata": {},
   "outputs": [],
   "source": [
    "data.isnull().values.any()"
   ]
  },
  {
   "cell_type": "markdown",
   "metadata": {},
   "source": [
    "# Splitting data into testing and hold-out set"
   ]
  },
  {
   "cell_type": "code",
   "execution_count": null,
   "metadata": {},
   "outputs": [],
   "source": [
    "# Split data 75% training and 25% testing\n",
    "data_training,data_final_test = train_test_split(data,test_size = 0.25,random_state = 42,stratify = data['Label'])\n",
    "print(\"Length of training data \" + str(len(data_training)))\n",
    "print(\"Length of testing data \" + str(len(data_final_test)))"
   ]
  },
  {
   "cell_type": "markdown",
   "metadata": {},
   "source": [
    "# Plotting correlations"
   ]
  },
  {
   "cell_type": "code",
   "execution_count": null,
   "metadata": {},
   "outputs": [],
   "source": [
    "data_temp = data_training.copy()\n",
    "data_temp['Label'] = data_temp['Label'].map({'book': 0, 'plastic case': 1})\n",
    "data_temp.rename(columns={'Label': 768}, inplace=True)\n",
    "\n",
    "corr_matrix = data_temp.corr(method='pearson')\n",
    "corr_y = corr_matrix[768].sort_values(ascending = False)\n",
    "plt.scatter(corr_y.index.values, corr_y.values)\n",
    "plt.xlabel('Component')\n",
    "plt.ylabel('Correlation')\n",
    "plt.show()"
   ]
  },
  {
   "cell_type": "code",
   "execution_count": null,
   "metadata": {},
   "outputs": [],
   "source": [
    "corr_matrix = data_temp.corr(method='spearman')\n",
    "corr_y = corr_matrix[768].sort_values(ascending = False)\n",
    "plt.scatter(corr_y.index.values, corr_y.values)\n",
    "plt.xlabel('Component')\n",
    "plt.ylabel('Correlation')\n",
    "plt.show()"
   ]
  },
  {
   "cell_type": "markdown",
   "metadata": {},
   "source": [
    "# Part 1"
   ]
  },
  {
   "cell_type": "markdown",
   "metadata": {},
   "source": [
    "# Model 1 : Logistic regression"
   ]
  },
  {
   "cell_type": "code",
   "execution_count": null,
   "metadata": {},
   "outputs": [],
   "source": [
    "X_train = data_training.drop(['Label'], axis=1)\n",
    "y_train =data_training['Label']"
   ]
  },
  {
   "cell_type": "code",
   "execution_count": null,
   "metadata": {},
   "outputs": [],
   "source": [
    "pipe = Pipeline([\n",
    "        ('scale', StandardScaler()),\n",
    "        ('clf', LogisticRegression(solver ='liblinear',penalty = 'l2', random_state=55))])\n",
    "\n",
    "param_grid = dict(clf__C=list(np.power(10.0, np.arange(-5, 5))))\n",
    "\n",
    "grid = GridSearchCV(pipe, param_grid=param_grid, cv=5, n_jobs=1,verbose =1)\n",
    "grid.fit(X_train, y_train)"
   ]
  },
  {
   "cell_type": "code",
   "execution_count": null,
   "metadata": {},
   "outputs": [],
   "source": [
    "grid.best_params_"
   ]
  },
  {
   "cell_type": "code",
   "execution_count": null,
   "metadata": {},
   "outputs": [],
   "source": [
    "grid.cv_results_"
   ]
  },
  {
   "cell_type": "code",
   "execution_count": null,
   "metadata": {},
   "outputs": [],
   "source": [
    "best_estimator = grid.best_estimator_\n",
    "best_estimator_clf = best_estimator.named_steps['clf']\n",
    "best_estimator_scalar = best_estimator.named_steps['scale']\n",
    "best_estimator_clf.coef_[:,:20]"
   ]
  },
  {
   "cell_type": "markdown",
   "metadata": {},
   "source": [
    "# Testing on hold out set"
   ]
  },
  {
   "cell_type": "code",
   "execution_count": null,
   "metadata": {
    "collapsed": true
   },
   "outputs": [],
   "source": [
    "X_f = data_final_test.drop(['Label'], axis=1)\n",
    "X_f = best_estimator_scalar.transform(X_f)\n",
    "y_f =data_final_test['Label']\n",
    "y_log_pred = best_estimator_clf.predict(X_f)"
   ]
  },
  {
   "cell_type": "code",
   "execution_count": null,
   "metadata": {},
   "outputs": [],
   "source": [
    "y_log_pred"
   ]
  },
  {
   "cell_type": "code",
   "execution_count": null,
   "metadata": {},
   "outputs": [],
   "source": [
    "y_f.values"
   ]
  },
  {
   "cell_type": "code",
   "execution_count": null,
   "metadata": {},
   "outputs": [],
   "source": [
    "print(classification_report(y_f, y_log_pred))"
   ]
  },
  {
   "cell_type": "markdown",
   "metadata": {},
   "source": [
    "# Model 2 : Decision Tree"
   ]
  },
  {
   "cell_type": "code",
   "execution_count": null,
   "metadata": {
    "collapsed": true
   },
   "outputs": [],
   "source": [
    "from sklearn.tree import DecisionTreeClassifier\n",
    "from sklearn.tree import export_graphviz\n",
    "tre = DecisionTreeClassifier()\n",
    "tre.fit(X_train, y_train)\n",
    "\n",
    "export_graphviz(\n",
    "            tre,\n",
    "            out_file = 'test.dot',\n",
    "            class_names =tre.classes_,\n",
    "            rounded =True,\n",
    "            filled = True)"
   ]
  },
  {
   "cell_type": "code",
   "execution_count": null,
   "metadata": {},
   "outputs": [],
   "source": [
    "data[data[702] <= 0.134]"
   ]
  },
  {
   "cell_type": "code",
   "execution_count": null,
   "metadata": {},
   "outputs": [],
   "source": [
    "data_training_plot = data_training['Label'].map({'book': 0.0, 'plastic case': 1.0})"
   ]
  },
  {
   "cell_type": "code",
   "execution_count": null,
   "metadata": {},
   "outputs": [],
   "source": [
    "plt.plot(data_training[702],data_training_plot, 'ro')\n",
    "plt.xlabel('Predictor 702 value')\n",
    "plt.ylabel('Label')\n",
    "plt.title('Decision Tree boundary')\n",
    "plt.show()"
   ]
  },
  {
   "cell_type": "markdown",
   "metadata": {},
   "source": [
    "# Predicting unseen points"
   ]
  },
  {
   "cell_type": "code",
   "execution_count": null,
   "metadata": {
    "collapsed": true
   },
   "outputs": [],
   "source": [
    "X = pd.read_csv(r'X.csv',header=None)\n",
    "y = pd.read_csv(r'y.csv',header = None)\n",
    "y[0] = y[0].map({0.0: 'book', 1.0: 'plastic case'})\n",
    "X_Classify = pd.read_csv(r'XToClassify.csv',header = None)\n",
    "\n",
    "tre = DecisionTreeClassifier()\n",
    "tre.fit(X, y)\n",
    "\n",
    "y_pred = tre.predict(X_Classify)\n",
    "y_pred = pd.DataFrame({'y':y_pred})\n",
    "\n",
    "data = pd.concat([X_Classify, y_pred], axis=1)\n",
    "\n",
    "data.to_csv(r'Binary_Tree.csv')"
   ]
  },
  {
   "cell_type": "markdown",
   "metadata": {},
   "source": [
    "# Part 2 Multiclass classification"
   ]
  },
  {
   "cell_type": "code",
   "execution_count": null,
   "metadata": {},
   "outputs": [],
   "source": [
    "X = pd.read_csv(r'X_multi.csv',header=None)\n",
    "y = pd.read_csv(r'y_multi.csv',header = None)\n",
    "\n",
    "y.columns = ['Label']\n",
    "data = pd.concat([X, y], axis=1)\n",
    "data['Label'] = data['Label'].map({0.0: 'air', 1.0: 'book',2.0: 'hand',\n",
    "                                  3.0: 'knife',4.0: 'plastic case'})"
   ]
  },
  {
   "cell_type": "code",
   "execution_count": null,
   "metadata": {},
   "outputs": [],
   "source": [
    "data_training,data_final_test = train_test_split(data,test_size = 0.20,random_state = 42,stratify = y)\n",
    "print(len(data_training))\n",
    "print(len(data_final_test))"
   ]
  },
  {
   "cell_type": "code",
   "execution_count": null,
   "metadata": {
    "scrolled": false
   },
   "outputs": [],
   "source": [
    "data_final_test.groupby('Label').count()"
   ]
  },
  {
   "cell_type": "code",
   "execution_count": null,
   "metadata": {},
   "outputs": [],
   "source": [
    "data_training.groupby('Label').count()"
   ]
  },
  {
   "cell_type": "markdown",
   "metadata": {},
   "source": [
    "# Plotting correlations"
   ]
  },
  {
   "cell_type": "code",
   "execution_count": null,
   "metadata": {},
   "outputs": [],
   "source": [
    "data_temp = data_training.copy()\n",
    "data_temp['Label'] = data_temp['Label'].map({'air': 0, 'book': 1,'hand': 2,\n",
    "                                  'knife': 3,'plastic case': 4})\n",
    "data_temp.rename(columns={'Label': 768}, inplace=True)\n",
    "corr_matrix = data_temp.corr(method='pearson')\n",
    "corr_y = corr_matrix[768].sort_values(ascending = False)\n",
    "plt.scatter(corr_y.index.values, corr_y.values)\n",
    "plt.xlabel('Component')\n",
    "plt.ylabel('Correlation')\n",
    "plt.show()"
   ]
  },
  {
   "cell_type": "code",
   "execution_count": null,
   "metadata": {},
   "outputs": [],
   "source": [
    "data_temp = data_training.copy()\n",
    "data_temp['Label'] = data_temp['Label'].map({'air': 0, 'book': 1,'hand': 2,\n",
    "                                  'knife': 3,'plastic case': 4})\n",
    "data_temp.rename(columns={'Label': 768}, inplace=True)\n",
    "\n",
    "corr_matrix = data_temp.corr(method='spearman')\n",
    "corr_y = corr_matrix[768].sort_values(ascending = False)\n",
    "plt.scatter(corr_y.index.values, corr_y.values)\n",
    "plt.xlabel('Component')\n",
    "plt.ylabel('Correlation')\n",
    "plt.show()"
   ]
  },
  {
   "cell_type": "markdown",
   "metadata": {},
   "source": [
    "# Training model"
   ]
  },
  {
   "cell_type": "markdown",
   "metadata": {},
   "source": [
    "# Model 1 Logistic regression"
   ]
  },
  {
   "cell_type": "code",
   "execution_count": null,
   "metadata": {
    "collapsed": true
   },
   "outputs": [],
   "source": [
    "X_train = data_training.drop(['Label'], axis=1)\n",
    "y_train =data_training['Label']"
   ]
  },
  {
   "cell_type": "code",
   "execution_count": null,
   "metadata": {},
   "outputs": [],
   "source": [
    "pipe = Pipeline([\n",
    "        ('scale', StandardScaler()),\n",
    "        ('clf', LogisticRegression(solver ='newton-cg',penalty = 'l2', multi_class = 'multinomial',random_state=15))])\n",
    "\n",
    "param_grid = dict(clf__C=list(np.power(10.0, np.arange(-5, 5))))\n",
    "\n",
    "grid = GridSearchCV(pipe, param_grid=param_grid, cv=10, n_jobs=1,verbose =1)\n",
    "grid.fit(X_train, y_train)"
   ]
  },
  {
   "cell_type": "code",
   "execution_count": null,
   "metadata": {
    "collapsed": true
   },
   "outputs": [],
   "source": [
    "best_estimator = grid.best_estimator_"
   ]
  },
  {
   "cell_type": "code",
   "execution_count": null,
   "metadata": {},
   "outputs": [],
   "source": [
    "grid.cv_results_"
   ]
  },
  {
   "cell_type": "code",
   "execution_count": null,
   "metadata": {},
   "outputs": [],
   "source": [
    "best_estimator_clf = best_estimator.named_steps['clf']\n",
    "best_estimator_scale = best_estimator.named_steps['scale']\n",
    "best_estimator_clf.coef_"
   ]
  },
  {
   "cell_type": "markdown",
   "metadata": {},
   "source": [
    "# Hold out set testing"
   ]
  },
  {
   "cell_type": "code",
   "execution_count": null,
   "metadata": {},
   "outputs": [],
   "source": [
    "X_f = data_final_test.drop(['Label'], axis=1)\n",
    "X_f =best_estimator_scale.transform(X_f)\n",
    "y_f =data_final_test['Label']"
   ]
  },
  {
   "cell_type": "code",
   "execution_count": null,
   "metadata": {},
   "outputs": [],
   "source": [
    "y_pred = best_estimator_clf.predict(X_f)"
   ]
  },
  {
   "cell_type": "code",
   "execution_count": null,
   "metadata": {},
   "outputs": [],
   "source": [
    "y_pred"
   ]
  },
  {
   "cell_type": "code",
   "execution_count": null,
   "metadata": {},
   "outputs": [],
   "source": [
    "y_f.values"
   ]
  },
  {
   "cell_type": "code",
   "execution_count": null,
   "metadata": {},
   "outputs": [],
   "source": [
    "confusion_matrix(y_f,y_pred)"
   ]
  },
  {
   "cell_type": "code",
   "execution_count": null,
   "metadata": {},
   "outputs": [],
   "source": [
    "sns.heatmap(confusion_matrix(y_f,y_pred), \n",
    "            xticklabels=grid.classes_,\n",
    "            yticklabels=grid.classes_)\n",
    "plt.show()"
   ]
  },
  {
   "cell_type": "code",
   "execution_count": null,
   "metadata": {},
   "outputs": [],
   "source": [
    "print(classification_report(y_f, y_pred))"
   ]
  },
  {
   "cell_type": "markdown",
   "metadata": {},
   "source": [
    "# Model 2 Decision tree"
   ]
  },
  {
   "cell_type": "code",
   "execution_count": null,
   "metadata": {
    "collapsed": true
   },
   "outputs": [],
   "source": [
    "from sklearn.tree import DecisionTreeClassifier\n",
    "from sklearn.tree import export_graphviz\n",
    "tre = DecisionTreeClassifier()\n",
    "tre.fit(X_train, y_train)\n",
    "\n",
    "export_graphviz(\n",
    "            tre,\n",
    "            out_file = 'test1.dot',\n",
    "            class_names =tre.classes_,\n",
    "            rounded =True,\n",
    "            filled = True)"
   ]
  },
  {
   "cell_type": "code",
   "execution_count": null,
   "metadata": {
    "collapsed": true
   },
   "outputs": [],
   "source": [
    "X_f = data_final_test.drop(['Label'], axis=1)\n",
    "y_f =data_final_test['Label']"
   ]
  },
  {
   "cell_type": "code",
   "execution_count": null,
   "metadata": {
    "collapsed": true
   },
   "outputs": [],
   "source": [
    "y_pred_tree = tre.predict(X_f)"
   ]
  },
  {
   "cell_type": "code",
   "execution_count": null,
   "metadata": {},
   "outputs": [],
   "source": [
    "y_pred_tree"
   ]
  },
  {
   "cell_type": "code",
   "execution_count": null,
   "metadata": {},
   "outputs": [],
   "source": [
    "y_f.values"
   ]
  },
  {
   "cell_type": "code",
   "execution_count": null,
   "metadata": {},
   "outputs": [],
   "source": [
    "sns.heatmap(confusion_matrix(y_f,y_pred_tree), \n",
    "            xticklabels=tre.classes_,\n",
    "            yticklabels=tre.classes_)\n",
    "plt.show()"
   ]
  },
  {
   "cell_type": "code",
   "execution_count": null,
   "metadata": {},
   "outputs": [],
   "source": [
    "len(data[data[153] <= -0.39])"
   ]
  },
  {
   "cell_type": "markdown",
   "metadata": {},
   "source": [
    "# Model 3 SVM"
   ]
  },
  {
   "cell_type": "code",
   "execution_count": null,
   "metadata": {},
   "outputs": [],
   "source": [
    "steps = [('scaler', StandardScaler()), ('SVM', LinearSVC(max_iter = 1000000))]\n",
    "pipeline = Pipeline(steps)\n",
    "\n",
    "tuned_parameters = [{'SVM__C': [0.001,0.01,0.1,1, 10, 100, 1000]}]\n",
    "\n",
    "grid = GridSearchCV(pipeline, param_grid=tuned_parameters, cv=5)\n",
    "grid.fit(X_train, y_train)"
   ]
  },
  {
   "cell_type": "code",
   "execution_count": null,
   "metadata": {},
   "outputs": [],
   "source": [
    "grid.best_params_"
   ]
  },
  {
   "cell_type": "code",
   "execution_count": null,
   "metadata": {},
   "outputs": [],
   "source": [
    "result_df = pd.DataFrame.from_dict(grid.cv_results_)"
   ]
  },
  {
   "cell_type": "code",
   "execution_count": null,
   "metadata": {},
   "outputs": [],
   "source": [
    "result_df[['rank_test_score','param_SVM__C','mean_test_score']]"
   ]
  },
  {
   "cell_type": "code",
   "execution_count": null,
   "metadata": {
    "collapsed": true
   },
   "outputs": [],
   "source": [
    "best_estimator_svm = grid.best_estimator_\n",
    "best_estimator_svm_clf = best_estimator_svm.named_steps['SVM']\n",
    "best_estimator_svm_scale = best_estimator_svm.named_steps['scaler']"
   ]
  },
  {
   "cell_type": "markdown",
   "metadata": {},
   "source": [
    "# Hold out set testing"
   ]
  },
  {
   "cell_type": "code",
   "execution_count": null,
   "metadata": {
    "collapsed": true
   },
   "outputs": [],
   "source": [
    "X_f = data_final_test.drop(['Label'], axis=1)\n",
    "X_f = best_estimator_svm_scale.transform(X_f)\n",
    "y_f =data_final_test['Label']"
   ]
  },
  {
   "cell_type": "code",
   "execution_count": null,
   "metadata": {},
   "outputs": [],
   "source": [
    "y_pred_SVM = best_estimator_svm_clf.predict(X_f)"
   ]
  },
  {
   "cell_type": "code",
   "execution_count": null,
   "metadata": {},
   "outputs": [],
   "source": [
    "y_pred_SVM"
   ]
  },
  {
   "cell_type": "code",
   "execution_count": null,
   "metadata": {},
   "outputs": [],
   "source": [
    "y_f.values"
   ]
  },
  {
   "cell_type": "code",
   "execution_count": null,
   "metadata": {},
   "outputs": [],
   "source": [
    "confusion_matrix(y_pred_SVM,y_f)"
   ]
  },
  {
   "cell_type": "code",
   "execution_count": null,
   "metadata": {},
   "outputs": [],
   "source": [
    "sns.heatmap(confusion_matrix(y_f,y_pred_SVM), \n",
    "            xticklabels=grid.classes_,\n",
    "            yticklabels=grid.classes_)\n",
    "plt.show()"
   ]
  },
  {
   "cell_type": "code",
   "execution_count": null,
   "metadata": {},
   "outputs": [],
   "source": [
    "print(classification_report(y_f, y_pred_SVM))"
   ]
  },
  {
   "cell_type": "markdown",
   "metadata": {},
   "source": [
    "# Predict final points"
   ]
  },
  {
   "cell_type": "code",
   "execution_count": null,
   "metadata": {},
   "outputs": [],
   "source": [
    "X = pd.read_csv(r'X_multi.csv',header=None)\n",
    "y = pd.read_csv(r'y_multi.csv',header = None)\n",
    "y[0] = y[0].map({0.0: 'air', 1.0: 'book',2.0: 'hand',\n",
    "                                  3.0: 'knife',4.0: 'plastic case'})\n",
    "\n",
    "X_to_classfiy = pd.read_csv(r'XToClassify_multi.csv',header=None)\n",
    "\n",
    "linear_kernel_svm_clf = Pipeline([\n",
    "        ('scaler',StandardScaler()),\n",
    "        ('smv_clf',LinearSVC(C =0.1,max_iter = 1000000))\n",
    "])\n",
    "linear_kernel_svm_clf.fit(X.values,y[0])\n",
    "\n",
    "y_pred = linear_kernel_svm_clf.predict(X_to_classfiy)\n",
    "y_pred = pd.DataFrame({'y':y_pred})\n",
    "\n",
    "data = pd.concat([X_to_classfiy, y_pred], axis=1)\n",
    "\n",
    "data.to_csv(r'Multi_SVM.csv')"
   ]
  }
 ],
 "metadata": {
  "kernelspec": {
   "display_name": "Python 3",
   "language": "python",
   "name": "python3"
  },
  "language_info": {
   "codemirror_mode": {
    "name": "ipython",
    "version": 3
   },
   "file_extension": ".py",
   "mimetype": "text/x-python",
   "name": "python",
   "nbconvert_exporter": "python",
   "pygments_lexer": "ipython3",
   "version": "3.6.1"
  }
 },
 "nbformat": 4,
 "nbformat_minor": 2
}
